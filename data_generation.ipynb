{
 "cells": [
  {
   "cell_type": "code",
   "execution_count": 23,
   "metadata": {},
   "outputs": [
    {
     "name": "stdout",
     "output_type": "stream",
     "text": [
      "The autoreload extension is already loaded. To reload it, use:\n",
      "  %reload_ext autoreload\n"
     ]
    }
   ],
   "source": [
    "%load_ext autoreload\n",
    "%autoreload 2\n",
    "import spike_queries\n",
    "import pandas as pd\n",
    "import tqdm\n",
    "import pickle\n",
    "import random\n",
    "import itertools\n",
    "\n",
    "import torch\n",
    "from transformers import BertTokenizer\n",
    "from torch.utils.data import TensorDataset, DataLoader, RandomSampler, SequentialSampler\n",
    "from transformers import AutoTokenizer, AutoModel, AutoConfig\n",
    "from transformers import BertForSequenceClassification, AdamW, BertConfig, BertModel, AutoTokenizer, AutoModel, PreTrainedTokenizerFast\n",
    "import numpy as np\n",
    "from typing import List\n",
    "from torch import nn\n",
    "import pytorch_lightning as pl\n",
    "from pytorch_lightning import Trainer\n",
    "from torch.utils.data import DataLoader\n",
    "from torch.utils.data import Dataset\n",
    "from typing import Dict, Tuple\n",
    "from scipy.spatial.distance import cosine as cosine_distance\n",
    "from collections import defaultdict\n"
   ]
  },
  {
   "cell_type": "code",
   "execution_count": 24,
   "metadata": {},
   "outputs": [],
   "source": [
    "with open(\"queries2.txt\", \"r\") as f:\n",
    "    queries = f.readlines()\n",
    "    queries = [l.strip() for l in queries]\n"
   ]
  },
  {
   "cell_type": "code",
   "execution_count": 25,
   "metadata": {},
   "outputs": [],
   "source": [
    "for i,q in enumerate(queries):\n",
    "    try:\n",
    "        assert len(q.split(\"\\t\")) == 2\n",
    "    except:\n",
    "        print(i, q, len(q.split(\"\\t\")))"
   ]
  },
  {
   "cell_type": "code",
   "execution_count": 26,
   "metadata": {},
   "outputs": [],
   "source": [
    "for i,q in enumerate(queries):\n",
    "    a = q.count(\"arg1:\") == q.count(\"arg2:\") == 1\n",
    "    if not a:\n",
    "        print(i,q)"
   ]
  },
  {
   "cell_type": "code",
   "execution_count": 27,
   "metadata": {},
   "outputs": [
    {
     "name": "stdout",
     "output_type": "stream",
     "text": [
      "['<>arg1:virus $infection $causes a <>arg2:condition', '<>arg1:virus $infection, which $causes a <>arg2:condition', '<>arg1:virus $infection $results $in <>arg2:condition', '<>arg1:virus $infection, which $results $in <>arg2:condition', '<>arg2:condition $is $the $result of <>arg1:virus $infection', '<>arg2:condition, which $is $the $result of <>arg1:virus $infection', '<>arg2:condition $is $[l=cause|trigger]caused $by <>arg1:virus $infection', 'as a result of <>arg1:virus $infection, <>arg2:condition $can $develop']\n"
     ]
    }
   ],
   "source": [
    "queries2results = defaultdict(list)\n",
    "id2query = defaultdict(list)\n",
    "\n",
    "for id_and_query in queries:\n",
    "    query,id = id_and_query.split(\"\\t\")\n",
    "    id2query[int(id)].append(query)\n",
    "    \n",
    "print(id2query[1])"
   ]
  },
  {
   "cell_type": "code",
   "execution_count": 28,
   "metadata": {},
   "outputs": [],
   "source": [
    "# dataset_name = \"covid19\"\n",
    "# num_results = 100\n",
    "# query_type = \"syntactic\"\n",
    "\n",
    "# for i, q_and_id in tqdm.tqdm(enumerate(queries), total = len(queries)):\n",
    "#     q, id = q_and_id.split(\"\\t\")\n",
    "#     id = int(id)\n",
    "#     try:\n",
    "#         df = spike_queries.perform_query(q, dataset_name, num_results, query_type) #previously: word=Hawaii\n",
    "#         queries2results[id].append(df)\n",
    "#         time.sleep(2)\n",
    "#     except Exception as e:\n",
    "#         print(\"Error\", i+1)\n",
    "#         print(e)\n",
    "        \n",
    "#         continue"
   ]
  },
  {
   "cell_type": "code",
   "execution_count": 29,
   "metadata": {},
   "outputs": [],
   "source": [
    "# for id, dfs in queries2results.items():\n",
    "#      for i,df in enumerate(dfs):\n",
    "#          print(id, i)\n",
    "#          queries2results[id][i] = df.dropna(subset=['arg1_first_index',\"arg1_last_index\",\"arg2_first_index\",\"arg2_last_index\"])"
   ]
  },
  {
   "cell_type": "code",
   "execution_count": 33,
   "metadata": {},
   "outputs": [],
   "source": [
    "for id, dfs in queries2results.items():\n",
    "      for i,df in enumerate(dfs):\n",
    "            queries2results[id][i][\"spike_query\"] = id2query[id][i]"
   ]
  },
  {
   "cell_type": "code",
   "execution_count": 31,
   "metadata": {},
   "outputs": [],
   "source": [
    "# with open(\"queries2results.pickle\", \"wb\") as f:\n",
    "#       pickle.dump(queries2results, f)"
   ]
  },
  {
   "cell_type": "code",
   "execution_count": 32,
   "metadata": {},
   "outputs": [],
   "source": [
    "with open(\"queries2results.pickle\", \"rb\") as f:\n",
    "    queries2results = pickle.load(f)"
   ]
  },
  {
   "cell_type": "code",
   "execution_count": 34,
   "metadata": {},
   "outputs": [
    {
     "data": {
      "text/plain": [
       "dict_keys([1, 2, 3, 4, 5, 6, 7, 8, 9, 10, 11, 12, 13, 14, 15, 16, 17, 18, 19, 20, 21, 22, 23, 24, 25, 26, 27, 28, 29, 30, 31, 32, 33, 34, 35, 36, 37, 38, 39, 40, 41, 42, 43, 44, 45, 46, 47, 48, 49, 50, 51, 52, 53, 54, 55, 56])"
      ]
     },
     "execution_count": 34,
     "metadata": {},
     "output_type": "execute_result"
    }
   ],
   "source": [
    "queries2results.keys()"
   ]
  },
  {
   "cell_type": "code",
   "execution_count": 35,
   "metadata": {},
   "outputs": [],
   "source": [
    "# queries2results_new = dict()\n",
    "# for k,dfs in queries2results.items():\n",
    "#     if k == 0: continue\n",
    "#     queries2results_new[k] = pd.concat(dfs, axis=0)\n",
    "    \n",
    "# queries2results = queries2results_new"
   ]
  },
  {
   "cell_type": "code",
   "execution_count": 36,
   "metadata": {},
   "outputs": [],
   "source": [
    "ids = set([int(l.split(\"\\t\")[-1]) for l in queries])"
   ]
  },
  {
   "cell_type": "code",
   "execution_count": 37,
   "metadata": {},
   "outputs": [],
   "source": [
    "def add_arguments(sent:str, arg1_start, arg1_end, arg2_start, arg2_end):\n",
    "    \n",
    "        s_lst = sent.split(\" \")\n",
    "        if arg1_start > arg2_start:\n",
    "            arg1_start, arg2_start = arg2_start, arg1_start\n",
    "            arg1_end, arg2_end = arg2_end, arg1_end\n",
    "            arg1_str, arg2_str = \"<<ARG2:\", \"<<ARG1:\"\n",
    "        else:\n",
    "            arg1_str, arg2_str = \"<<ARG1:\", \"<<ARG2:\"\n",
    "        \n",
    "        s_with_args = s_lst[:arg1_start] + [arg1_str] + s_lst[arg1_start:arg1_end+1] + [\">>\"] + s_lst[arg1_end+1:arg2_start] + [arg2_str] + s_lst[arg2_start:arg2_end+1] + [\">>\"] +s_lst[arg2_end+1:]  \n",
    "        #s_with_args = s_lst[:arg1_start] + [arg1_str+s_lst[arg1_ind]] + s_lst[arg1_ind+1:arg2_ind] + [arg2_str+s_lst[arg2_ind]] + s_lst[arg2_ind+1:]\n",
    "        s_with_args = \" \".join(s_with_args).replace(\"ARG1: \", \"ARG1:\").replace(\"ARG2: \", \"ARG2:\")\n",
    "        s_with_args = s_with_args.replace(\" >>\", \">>\")\n",
    "        return s_with_args\n",
    "    "
   ]
  },
  {
   "cell_type": "code",
   "execution_count": 38,
   "metadata": {},
   "outputs": [
    {
     "name": "stderr",
     "output_type": "stream",
     "text": [
      "100%|██████████| 56/56 [00:07<00:00,  7.12it/s]\n"
     ]
    }
   ],
   "source": [
    "NUM_PAIRS_PER_RELATION = 500\n",
    "\n",
    "data = []\n",
    "\n",
    "for id in tqdm.tqdm(ids): #foreach relation\n",
    "    \n",
    "    pattern_pairs = list(itertools.product(range(len(id2query[id])), repeat=2))\n",
    "    pattern_pairs_different = [(p1,p2) for (p1,p2) in pattern_pairs if p1 != p2]\n",
    "    \n",
    "    sum_pattern = 0\n",
    "    relation_examples = []\n",
    "    \n",
    "    for p1, p2 in pattern_pairs_different:\n",
    "        df1,df2 = queries2results[id][p1], queries2results[id][p2]\n",
    "        if df1.empty or df2.empty: continue\n",
    "            \n",
    "        sentences1, sentences2 = df1[\"sentence_text\"].tolist(), df2[\"sentence_text\"].tolist()\n",
    "        query1, query2 = df1[\"spike_query\"].tolist()[0], df2[\"spike_query\"].tolist()[0]\n",
    "        arg1_first_start, arg1_first_end = df1[\"arg1_first_index\"].tolist(), df1[\"arg1_last_index\"].tolist()\n",
    "        arg2_first_start, arg2_first_end = df1[\"arg2_first_index\"].tolist(), df1[\"arg2_last_index\"].tolist()\n",
    "        arg1_second_start, arg1_second_end = df2[\"arg1_first_index\"].tolist(), df2[\"arg1_last_index\"].tolist()\n",
    "        arg2_second_start, arg2_second_end = df2[\"arg2_first_index\"].tolist(), df2[\"arg2_last_index\"].tolist()\n",
    "        \n",
    "        \n",
    "        all_pair_combinations = list(itertools.product(range(len(df1)), range(len(df2))))\n",
    "        random.shuffle(all_pair_combinations)\n",
    "        for combination in all_pair_combinations[:100]:\n",
    "            ind1, ind2 = combination\n",
    "            \n",
    "            sent1, sent2 = sentences1[ind1], sentences2[ind2]\n",
    "            sent1_arg1_start, sent1_arg1_end = arg1_first_start[ind1], arg1_first_end[ind1]\n",
    "            sent1_arg2_start, sent1_arg2_end = arg2_first_start[ind1], arg2_first_end[ind1]\n",
    "            sent2_arg1_start, sent2_arg1_end = arg1_second_start[ind2], arg1_second_end[ind2]\n",
    "            sent2_arg2_start, sent2_arg2_end = arg2_second_start[ind2], arg2_second_end[ind2]\n",
    "            sent1_with_args = add_arguments(sent1, sent1_arg1_start, sent1_arg1_end, sent1_arg2_start, sent1_arg2_end)\n",
    "            sent2_with_args = add_arguments(sent2, sent2_arg1_start, sent2_arg1_end, sent2_arg2_start, sent2_arg2_end)\n",
    "            d = {\"first\": sent1_with_args, \"second\": sent2, \"second_with_arguments\": sent2_with_args, \"query_first\": query1, \"query_second\": query2, \n",
    "                 \"first_arg1\": (sent1_arg1_start, sent1_arg1_end), \"first_arg2\": (sent1_arg2_start, sent1_arg2_end), \n",
    "                 \"second_arg1\": (sent2_arg1_start, sent2_arg1_end),\n",
    "                 \"second_arg2\": (sent2_arg2_start, sent2_arg2_end)}\n",
    "            relation_examples.append(d)\n",
    "    \n",
    "    random.shuffle(relation_examples)\n",
    "    relation_examples = relation_examples[:NUM_PAIRS_PER_RELATION]\n",
    "    data.extend(relation_examples)\n",
    "    \n",
    "random.shuffle(data)"
   ]
  },
  {
   "cell_type": "code",
   "execution_count": 39,
   "metadata": {},
   "outputs": [],
   "source": [
    "with open(\"data.pickle\", \"wb\") as f:\n",
    "    pickle.dump(data, f)\n",
    "    \n",
    "import json\n",
    "\n",
    "with open(\"data.txt\", \"w\") as f:\n",
    "    for d in data:\n",
    "        first, second = d[\"first\"], d[\"second_with_arguments\"]\n",
    "        first_arg1 = d[\"first_arg1\"]\n",
    "        first_arg2 = d[\"first_arg2\"]\n",
    "        second_arg1 = d[\"second_arg1\"]\n",
    "        second_arg2 = d[\"second_arg2\"]\n",
    "        \n",
    "        elems = [first, second, first_arg1, first_arg2, second_arg1, second_arg2]\n",
    "        keys = [\"first\", \"second\", \"first_arg1\", \"first_arg2\"]\n",
    "        \n",
    "        f.write(json.dumps(d) + \"\\n\")\n",
    "        #f.write(d[\"first\"] + \"\\t\" + d[\"second\"] + \"\\t\" + d[\"query\"] + \"\\t\" + \"-\".join(d[\"first_arg1\"])+ \"\\n\")"
   ]
  },
  {
   "cell_type": "code",
   "execution_count": 40,
   "metadata": {},
   "outputs": [
    {
     "name": "stdout",
     "output_type": "stream",
     "text": [
      "At <<ARG1:least six IBV genotypes>> together comprise 34 distinct viral lineages and a number of unassigned interlineage recombinants have been recognized worldwide according to a simple and <<ARG2:repeatable>> phylogeny-based classification system that uses the complete nucleotide sequence of the S1 gene and an unambiguous and rationale lineage nomenclature for the assignment of IBVs ( Valastro et al. , 2016 ; Chen et al. , 2017 ; Jiang et al. , 2017 ) . (1, 4) (27, 27)\n",
      "It is at the present time unclear if <<ARG1:the SARS-CoV-2 virus>> affects the <<ARG2:olfactory>> system , alone , or whether the trigeminal system is also influenced .\n",
      "---------------\n",
      "<>arg1:[e=ORGANISM|ORGANISM_SUBDIVISION|ORGANISM_SUBSTANCE]flu interacts with the <>arg2:immune $system\n",
      "<>arg1:flu $[w=virus|infection]infection influences the <>arg2:immune $system\n",
      "============================\n",
      "Thus , targeting α7nAChR activity could be of interest to modify immune function , which is dysregulated in <<ARG1:COVID-19 infection>> where an immune system <<ARG2:overreaction>> or cytokine storm is observed ( Fig. 1 ) . (18, 19) (24, 24)\n",
      "The transcription regulatory sequences ( TRSs ) of <<ARG1:the coronavirus transmissible gastroenteritis virus>> ( TGEV ) have been characterized by using a <<ARG2:helper virus-dependent>> expression system based on coronavirus-derived minigenomes to study the synthesis of subgenomic mRNAs .\n",
      "---------------\n",
      "the <>arg2:immune $system is influenced from <>arg1:flu $infection\n",
      "<>arg1:flu $[w=virus|infection]infection influences the <>arg2:immune $system\n",
      "============================\n",
      "The best <<ARG2:characterized>> conventional RNA-capping system is that exemplified by <<ARG1:the dsDNA virus vaccinia virus>> , which expresses a multifunctional mRNA capsynthesizing enzyme ( D1 ) containing RTPase , GTase and N7MTase domains 24 . (10, 14) (2, 2)\n",
      "<<ARG1:Rabies virus>> travels to the central <<ARG2:nervous>> system within the axon cytoplasm without infecting cells of the nerve sheath ( Schwann cells ) .\n",
      "---------------\n",
      "the <>arg2:immune $system is influenced from <>arg1:flu $virus\n",
      "<>arg1:flu $virus interacts with the <>arg2:immune $system\n",
      "============================\n",
      "COVID-19 is a novel disease caused by the SARS-CoV-2 virus that was first detected in <<ARG2:December of 2019>> in Wuhan , <<ARG1:China>> and has rapidly spread worldwide . (21, 21) (15, 17)\n",
      "<<ARG1:15 A CoV>> was independently and almost simultaneously isolated from <<ARG2:SARS patients>> by several laboratories and found by sequencing to be only distantly related to previously characterized CoVs .\n",
      "---------------\n",
      "<>arg1:something $was $first $detected $in <>arg2:soil\n",
      "<>arg1:something $was first $isolated $from <>arg2:soil\n",
      "============================\n",
      "Seminal studies by Albert Sabin , dating from the WWII era [ 148 ] , have demonstrated that volunteers exposed to <<ARG1:DENV>> showed long-lived homotypic immunity but short-lived cross-protection against <<ARG2:viruses of a different serotype>> . (21, 21) (30, 34)\n",
      "<<ARG1:The combination of dendritic cell (DC)-based cancer immunotherapy>> with VEE-neu particle administration induced both cellular and humoral immunity against <<ARG2:neu>> in transgenic human breast tumor-bearing mice [ 85 ] .\n",
      "---------------\n",
      "patients treated with <>arg1:something $showed $[l=immunity|resistence]immunity $against <>arg2:something\n",
      "<>arg1:something $[l=induce|trigger|cause|create]induces $[l=immunity|resistence]immunity $against <>arg2:something\n",
      "============================\n",
      "<<ARG1:Novel 2019 coronavirus infection>> usually causes <<ARG2:a respiratory disease>> , that may 20 vary in severity from mild symptoms to severe pneumonia with multiple organ failure . (0, 3) (6, 8)\n",
      "<<ARG2:Pancytopenia>> means a reduction in the WBC , Hb and platelet count and is most often the result of anticancer chemotherapy , <<ARG1:HIV infection>> , hypersplenism and bone marrow infiltration or failure .\n",
      "---------------\n",
      "<>arg1:virus $infection $causes a <>arg2:condition\n",
      "<>arg2:condition $is $the $result of <>arg1:virus $infection\n",
      "============================\n",
      "who.int/emergencies/mers-cov/risk-assessment-july-2017.pdf). As an example of emerging parasites , <<ARG1:Plasmodium knowlesi>> , a malaria parasite usually infecting <<ARG2:macaque monkeys>> , has emerged during the past decade as a cause of human malaria in Southeast Asia , especially in Malaysian Borneo [ 16 ] . (8, 9) (16, 17)\n",
      "Syphacia muris is primarily a rat-to-rat transmitted species [ 93 ] whereas <<ARG1:H. spumosa>> is a parasite of <<ARG2:rats>> , mice , and occasionally hedgehogs [ 94 ] .\n",
      "---------------\n",
      "<>arg1:something, $a $parasite $infecting <>arg2:bats\n",
      "<>arg1:something $is $a $parasite in <>arg2:bats\n",
      "============================\n",
      "A previous study showed that the DNA of PCV2 could impair the plasmacytoid-and monocytederived dendritic cells ability to induce <<ARG1:interferon>> (IFN)-α and TNF-α by interacting with <<ARG2:TLR7>> and TLR9 [ 23 ] . (19, 19) (26, 26)\n",
      "The structure of coronavirus 3C-like proteinase contains three domains , the first two domains form a chymotrypsin fold , which is responsible for the catalytic reaction , and <<ARG1:the extra helical domain of the enzyme>> plays an important role in controlling the associationdissociation equilibrium and regulating <<ARG2:the activity and specificity of the enzyme>> [ 6 ] .\n",
      "---------------\n",
      "the <>arg1:[e=PROTEIN]A $[l=interact]interacts with <>arg2:[e=PROTEIN]B\n",
      "the $enzyme <>arg1:A $[l]regulates the $enzyme <>arg2:B\n",
      "============================\n",
      "<<ARG1:DNA Polymorphism>> in MI : Some polymorphisms may increase the risk of MI within <<ARG2:specific ethnic groups>> or in certain populations . (0, 1) (14, 16)\n",
      "Use of transgenic alfalfa as a vehicle provides an efficient means for delivery of <<ARG1:antigen>> that also furnishes protection against <<ARG2:immediate dilution>> and destruction in the rumen .\n",
      "---------------\n",
      "<>arg1:SCD $[l]polymorphism share high $risk for <>arg2:something\n",
      "<>arg1:[e=DNA|GENE_OR_GENE_PRODUCT]SCD provide $protection against <>arg2:something\n",
      "============================\n",
      "<<ARG2:The Coronavirus ( COVID 19 ) pandemic>> has fast spread throughout the world in <<ARG1:more than 200 countries>> , resulting in the need for a de-prioritization of elective medical care to face the demands of the global health crisis . (14, 17) (0, 6)\n",
      "Parenthetically , from that perspective , an outbreak of <<ARG2:PRRSV>> in <<ARG1:the swine population>> may have important implications for society and human life despite not being a zoonotic human disease .\n",
      "---------------\n",
      "<>arg2:[e]MERS-CoV $pandemic occurred $in <>arg1:[e]France\n",
      "$outbreak $of <>arg2:[e]MERS-CoV $in <>arg1:[e]France\n",
      "============================\n",
      "This does occur biologically of course as we know with <<ARG1:the current Covid-19 pandemic>> where the virus triggers the <<ARG2:immune>> system to overreact and begin to attack its own life support systems , at least in its most extreme and dangerous forms . (10, 13) (19, 19)\n",
      "Infection of SCID mice with a recombinant murine coronavirus ( mouse hepatitis virus [ <<ARG1:MHV>> ] ) expressing <<ARG2:the T-cell chemoattractant CXC chemokine ligand>> 10 ( CXCL10 ) resulted in increased survival and reduced viral burden within the brain and liver compared to those of mice infected with an isogenic control virus ( MHV ) , supporting an important role for CXCL10 in innate immune responses following viral infection .\n",
      "---------------\n",
      "<>arg1:something $virus affects the <>arg2:[e]respiratory $system\n",
      "<>arg1:something $virus affects the <>arg2:something $ligand\n",
      "============================\n",
      "Upon influenza virus infection , the airway <<ARG1:epithelial>> cells would initiate a rapid onset of the innate immune responses to prevent <<ARG2:virus infection>> . (7, 7) (21, 22)\n",
      "Therefore , it is likely that many calves are exposed to infection before they can be vaccinated and that <<ARG2:vaccine virus>> is often neutralized by ingested <<ARG1:colostral>> antibodies .\n",
      "---------------\n",
      "<>arg1:white $cells $[l]prevent the <>arg2:flu $infection\n",
      "<>arg2:flu $virus is $[l=attack|destroy|incapacitate|neutralize]attacked by <>arg1:white cells\n",
      "============================\n",
      "About <<ARG1:80 - 90>> % of persons infected with <<ARG2:COVID-19>> are asymptomatic or have milder flu symptoms , and the death rate is below 2 % . (1, 3) (9, 9)\n",
      "26 , 27 As <<ARG1:many as 50>> % of <<ARG2:Nipah virus infections>> are asymptomatic .\n",
      "---------------\n",
      "<>arg1:20% of people $infected $with <>arg2:something $[l]are $asymptomatic\n",
      "<>arg1:20% of <>arg2:flu $infections are $asymptomatic\n",
      "============================\n",
      "Infection mediated by VSV-G , <<ARG2:a pH-dependent viral membrane fusion protein>> was not inhibited by either leupeptin nor E64c ( <<ARG1:Table>> 1 ) . (20, 20) (5, 10)\n",
      "In vitro , over expression of <<ARG1:IL-37>> in macrophages or epithelial cells greatly inhibits the production of major pro-inflammatory cytokines such as TNF-α , IL-1α , IL-1β , IL-6 , IFN-γ and <<ARG2:macrophage inflammatory protein>> 2 [ 25 , 26 ] .\n",
      "---------------\n",
      "<>arg2:something $protein is $inhibited by <>arg1:something\n",
      "<>arg1:something $[l]inhibits the <>arg2:something $protein\n",
      "============================\n",
      "Some respiratory patients may also have <<ARG1:severe cardiac disease>> that itself would necessitate <<ARG2:a heart transplant>> . (6, 8) (13, 15)\n",
      "<<ARG1:Liver transplant>> is an effective treatment for <<ARG2:HBV-related end-stage liver disease>> .\n",
      "---------------\n",
      "<>arg1:[e=DISEASE]disease, that may $[l=require|necessitate|need]require <>arg2:[e=ORGAN]lung $transplant\n",
      "<>arg1:[e=ORGAN]Liver $transplant is a $[l=treatment|measure|operation]treatment for <>arg2:[e=DISEASE]flu\n",
      "============================\n",
      "Presently , no entirely plasmid-based <<ARG2:reverse>> genetics system has been described for <<ARG1:any other dsRNA virus of animals>> . (12, 17) (5, 5)\n",
      "8 , 9 The KSA MoH attempted to address the early detection of suspected MERS-CoV cases among <<ARG1:patients>> presenting with respiratory symptoms through a <<ARG2:visual>> triage system which was developed and continues to be adopted at the national level since its development in 2016 .\n",
      "---------------\n",
      "the <>arg2:immune $system is influenced from <>arg1:flu $virus\n",
      "<>arg1:[e=ORGANISM|ORGANISM_SUBDIVISION|ORGANISM_SUBSTANCE]flu interacts with the <>arg2:immune $system\n",
      "============================\n",
      "She developed chronic kidney disease due to focal segmental glomerulosclerosis and recurrence of <<ARG1:PBC>> , which required <<ARG2:combined liver and kidney transplant>> in 2002 . (13, 13) (17, 21)\n",
      "<<ARG1:Bilateral lung transplant>> is a treatment for <<ARG2:end-stage cystic fibrosis ( CF ) lung disease>> when there is no further treatment available .\n",
      "---------------\n",
      "<>arg1:[e=DISEASE]disease may $[l=require|necessitate|need]require <>arg2:[e=ORGAN]lung $transplant\n",
      "<>arg1:[e=ORGAN]Liver $transplant is a $[l=treatment|measure|operation]treatment for <>arg2:[e=DISEASE]flu\n",
      "============================\n",
      "20 Accordingly , <<ARG2:adipose tissue>> might also be infected by <<ARG1:SARS-CoV-2>> and allow spread to other organs . (10, 10) (3, 4)\n",
      "Therefore , <<ARG1:COVID-19>> is likely to invade and damage the testicular tissue of <<ARG2:patients>> by binding to these ACE2-positive cells .\n",
      "---------------\n",
      "<>arg2:lung $tissue is $[l=infect|invade|damage|enter]infected by <>arg1:[e=COVID-19|ORGANISM|ORGANISM_SUBDIVISION|ORGANISM_SUBSTANCE]COVID-19\n",
      "<>arg1:[e=COVID-19|ORGANISM|ORGANISM_SUBDIVISION|ORGANISM_SUBSTANCE]COVID-19 $[l=invade|enter|infect|damage]invades <>arg2:lung $tissue\n",
      "============================\n",
      "T cell response IAV <<ARG1:Vaccine-generated>> lung-resident memory CD8 T cells provide heterosubtypic protection to <<ARG2:IAV infection>> . (4, 4) (14, 15)\n",
      "In the absence of CD8 + T cells , Th1 like cells were <<ARG1:sufficient>> to protect mice from <<ARG2:intrathecal VV infection>> .\n",
      "---------------\n",
      "<>arg1:white $cells $[l]provide $protection against <>arg2:flu $infection\n",
      "<>arg1:white $cells $[l]protect against <>arg2:flu $infection\n",
      "============================\n",
      "<<ARG1:The SARS-CoV-2 virus>> can survive on <<ARG2:surfaces>> for up to 3 - 7 days depending on the type of surface and humidity . (0, 2) (6, 6)\n",
      "<<ARG1:The COVID-19>> can remain infectious on <<ARG2:inanimate surfaces>> for 2 h up to 9 days , depending on the temperature , humidity , type of surface and viral load [ 2 ] .\n",
      "---------------\n",
      "<>arg1:flu $virus $can $survive $on <>arg2:surfaces\n",
      "<>arg1:[e]COVID-19 $[l]remains $infectious $on <>arg2:surfaces\n",
      "============================\n"
     ]
    }
   ],
   "source": [
    "for i in range(20):\n",
    "    print(data[i][\"first\"], data[i][\"first_arg1\"], data[i][\"first_arg2\"])\n",
    "    print(data[i][\"second_with_arguments\"])\n",
    "    print(\"---------------\")\n",
    "    print(data[i][\"query_first\"])\n",
    "    print(data[i][\"query_second\"])\n",
    "    print(\"============================\")"
   ]
  },
  {
   "cell_type": "code",
   "execution_count": 42,
   "metadata": {},
   "outputs": [
    {
     "name": "stdout",
     "output_type": "stream",
     "text": [
      "24474\n"
     ]
    }
   ],
   "source": [
    "print(len(data))"
   ]
  },
  {
   "cell_type": "code",
   "execution_count": null,
   "metadata": {},
   "outputs": [],
   "source": []
  }
 ],
 "metadata": {
  "kernelspec": {
   "display_name": "Python 3",
   "language": "python",
   "name": "python3"
  },
  "language_info": {
   "codemirror_mode": {
    "name": "ipython",
    "version": 3
   },
   "file_extension": ".py",
   "mimetype": "text/x-python",
   "name": "python",
   "nbconvert_exporter": "python",
   "pygments_lexer": "ipython3",
   "version": "3.7.9"
  }
 },
 "nbformat": 4,
 "nbformat_minor": 4
}
