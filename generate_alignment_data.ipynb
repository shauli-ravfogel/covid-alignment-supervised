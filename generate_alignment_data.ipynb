{
 "cells": [
  {
   "cell_type": "code",
   "execution_count": 269,
   "metadata": {},
   "outputs": [
    {
     "name": "stdout",
     "output_type": "stream",
     "text": [
      "The autoreload extension is already loaded. To reload it, use:\n",
      "  %reload_ext autoreload\n"
     ]
    }
   ],
   "source": [
    "%load_ext autoreload\n",
    "%autoreload 2\n",
    "import spike_queries\n",
    "import pandas as pd\n",
    "import tqdm\n",
    "import pickle\n",
    "import random\n",
    "import itertools\n",
    "\n",
    "import torch\n",
    "from transformers import BertTokenizer\n",
    "from torch.utils.data import TensorDataset, DataLoader, RandomSampler, SequentialSampler\n",
    "from transformers import AutoTokenizer, AutoModel, AutoConfig\n",
    "from transformers import BertForSequenceClassification, AdamW, BertConfig, BertModel, AutoTokenizer, AutoModel, PreTrainedTokenizerFast\n",
    "import numpy as np\n",
    "from typing import List\n",
    "from torch import nn\n",
    "import pytorch_lightning as pl\n",
    "from pytorch_lightning import Trainer\n",
    "from torch.utils.data import DataLoader\n",
    "from torch.utils.data import Dataset\n",
    "from typing import Dict, Tuple"
   ]
  },
  {
   "cell_type": "code",
   "execution_count": 167,
   "metadata": {},
   "outputs": [],
   "source": [
    "with open(\"queries.txt\", \"r\") as f:\n",
    "    queries = f.readlines()\n",
    "    queries = [l.strip() for l in queries]"
   ]
  },
  {
   "cell_type": "code",
   "execution_count": 168,
   "metadata": {},
   "outputs": [],
   "source": [
    "queries2results = dict()"
   ]
  },
  {
   "cell_type": "code",
   "execution_count": 169,
   "metadata": {},
   "outputs": [
    {
     "name": "stderr",
     "output_type": "stream",
     "text": [
      "100%|██████████| 67/67 [05:45<00:00,  5.15s/it]\n"
     ]
    }
   ],
   "source": [
    "dataset_name = \"covid19\"\n",
    "num_results = 100\n",
    "query_type = \"syntactic\"\n",
    "\n",
    "for q in tqdm.tqdm(queries, total = len(queries)):\n",
    "    df = spike_queries.perform_query(q, dataset_name, num_results, query_type) #previously: word=Hawaii\n",
    "    queries2results[q] = df"
   ]
  },
  {
   "cell_type": "code",
   "execution_count": 170,
   "metadata": {},
   "outputs": [],
   "source": [
    "with open(\"queries2results.pickle\", \"wb\") as f:\n",
    "    pickle.dump(queries2results, f)"
   ]
  },
  {
   "cell_type": "code",
   "execution_count": 171,
   "metadata": {},
   "outputs": [],
   "source": [
    "with open(\"queries2results.pickle\", \"rb\") as f:\n",
    "    queries2results = pickle.load(f)"
   ]
  },
  {
   "cell_type": "code",
   "execution_count": 176,
   "metadata": {},
   "outputs": [
    {
     "name": "stdout",
     "output_type": "stream",
     "text": [
      "10000\n",
      "1225\n",
      "10000\n",
      "10000\n",
      "36\n",
      "10000\n",
      "10000\n",
      "10000\n",
      "81\n",
      "10000\n",
      "10000\n",
      "10000\n",
      "10000\n",
      "10000\n",
      "2601\n",
      "10000\n",
      "5041\n",
      "10000\n",
      "10000\n",
      "576\n",
      "10000\n",
      "4096\n",
      "10000\n",
      "10000\n",
      "169\n",
      "6241\n",
      "10000\n",
      "4\n",
      "10000\n",
      "841\n",
      "3721\n",
      "10000\n",
      "10000\n",
      "441\n",
      "2704\n",
      "169\n",
      "10000\n",
      "3969\n",
      "361\n",
      "10000\n",
      "10000\n",
      "10000\n",
      "576\n",
      "10000\n",
      "16\n",
      "25\n",
      "196\n",
      "10000\n",
      "10000\n",
      "576\n",
      "169\n",
      "3600\n",
      "529\n",
      "3844\n",
      "10000\n",
      "10000\n",
      "10000\n",
      "576\n",
      "576\n",
      "10000\n",
      "121\n",
      "25\n",
      "529\n",
      "289\n",
      "10000\n",
      "2916\n",
      "10000\n"
     ]
    }
   ],
   "source": [
    "data = []\n",
    "for q in queries:\n",
    "    #print(q)\n",
    "    results = queries2results[q]\n",
    "    sents, arg1_first, arg2_first = results[\"sentence_text\"].tolist(), results[\"arg1_first_index\"].tolist(), results[\"arg2_first_index\"].tolist()\n",
    "    arg1_last, arg2_last = results[\"arg1_last_index\"].tolist(), results[\"arg2_last_index\"].tolist()\n",
    "    \n",
    "    sents_with_args = []\n",
    "    for s,arg1_ind,arg2_ind, arg1_ind_last, arg2_ind_last in zip(sents,arg1_first,arg2_first, arg1_last, arg2_last):\n",
    "        s_lst = s.split(\" \")\n",
    "        if arg1_ind > arg2_ind:\n",
    "            arg1_ind, arg2_ind = arg2_ind, arg1_ind\n",
    "            arg1_ind_last, arg2_ind_last = arg2_ind_last, arg1_ind_last\n",
    "            arg1_str, arg2_str = \"ARG2:\", \"ARG1:\"\n",
    "        else:\n",
    "            arg1_str, arg2_str = \"ARG1:\", \"ARG2:\"\n",
    "        s_with_args = s_lst[:arg1_ind] + [arg1_str+s_lst[arg1_ind]] + s_lst[arg1_ind+1:arg2_ind] + [arg2_str+s_lst[arg2_ind]] + s_lst[arg2_ind+1:]\n",
    "        s_with_args = \" \".join(s_with_args)\n",
    "        sents_with_args.append({\"sent\": s_with_args, \"start_1\": arg1_ind, \"start_2\": arg2_ind, \"end_1\": arg1_ind_last,\n",
    "                               \"end_2\": arg2_ind_last})\n",
    "    \n",
    "    max_number_of_pairs = 100\n",
    "    pairs = list(itertools.product(sents_with_args, repeat=2))\n",
    "    print(len(pairs))\n",
    "    random.shuffle(pairs)\n",
    "    for pair in pairs[:max_number_of_pairs]:\n",
    "        data.append({\"first\": pair[0][\"sent\"], \"second\": pair[1][\"sent\"], \"query\": q, \"first_arg1\": (pair[0][\"start_1\"], pair[0][\"end_1\"]),\n",
    "                    \"first_arg2\": (pair[0][\"start_2\"], pair[0][\"end_2\"]), \"second_arg1\": (pair[1][\"start_1\"], pair[1][\"end_1\"]),\n",
    "                   \"second_arg2\": (pair[1][\"start_2\"], pair[1][\"end_2\"])})"
   ]
  },
  {
   "cell_type": "code",
   "execution_count": 177,
   "metadata": {},
   "outputs": [
    {
     "data": {
      "text/plain": [
       "{'first': 'ARG1:Bronchiolitis obliterans ( BO ) is a severe complication after allogeneic hematopoietic stem ARG2:cell transplantation with an unfavorable prognosis .',\n",
       " 'second': 'ARG1:Thrombocytopenia is a common complication of influenza ARG2:virus infection , and its severity predicts the clinical outcome of critically ill patients .',\n",
       " 'query': 'arg1:[e]stroke is a $complication of arg2:flu :vaccination',\n",
       " 'first_arg1': (0, 0),\n",
       " 'first_arg2': (13, 13),\n",
       " 'second_arg1': (0, 0),\n",
       " 'second_arg2': (7, 7)}"
      ]
     },
     "execution_count": 177,
     "metadata": {},
     "output_type": "execute_result"
    }
   ],
   "source": [
    "random.shuffle(data)\n",
    "data[0]"
   ]
  },
  {
   "cell_type": "code",
   "execution_count": 178,
   "metadata": {},
   "outputs": [],
   "source": [
    "import json\n",
    "\n",
    "with open(\"data.txt\", \"w\") as f:\n",
    "    for d in data:\n",
    "        first, second = d[\"first\"], d[\"second\"]\n",
    "        first_arg1 = d[\"first_arg1\"]\n",
    "        first_arg2 = d[\"first_arg2\"]\n",
    "        second_arg1 = d[\"second_arg1\"]\n",
    "        second_arg2 = d[\"second_arg2\"]\n",
    "        \n",
    "        elems = [first, second, first_arg1, first_arg2, second_arg1, second_arg2]\n",
    "        keys = [\"first\", \"second\", \"first_arg1\", \"first_arg2\"]\n",
    "        \n",
    "        f.write(json.dumps(d) + \"\\n\")\n",
    "        #f.write(d[\"first\"] + \"\\t\" + d[\"second\"] + \"\\t\" + d[\"query\"] + \"\\t\" + \"-\".join(d[\"first_arg1\"])+ \"\\n\")"
   ]
  },
  {
   "cell_type": "code",
   "execution_count": 179,
   "metadata": {},
   "outputs": [
    {
     "data": {
      "text/plain": [
       "{'first': 'The equine ARG1:influenza virus vaccine with CNPV vector expresses the hemagglutinin genes of the H3N8 Newmarket and Kentucky ARG2:strains and contains a polymer adjuvant ( Carbopol ; Merial Ltd. ) .',\n",
       " 'second': 'The reassortant H5N1 virus A/Harbin/Re-1/2003 ( ARG1:Re-1 ) derives its ARG2:HA and NA genes from A/goose/Guangdong/1/96(H5N1 ) virus , and six internal genes from the high-growth A/Puerto Rico/8/34 ( PR8 ) virus .',\n",
       " 'query': 'arg1:something $virus affects arg2:something $genes',\n",
       " 'first_arg1': (2, 2),\n",
       " 'first_arg2': (18, 18),\n",
       " 'second_arg1': (6, 6),\n",
       " 'second_arg2': (10, 10)}"
      ]
     },
     "execution_count": 179,
     "metadata": {},
     "output_type": "execute_result"
    }
   ],
   "source": [
    "random.shuffle(data)\n",
    "data[9]"
   ]
  },
  {
   "cell_type": "code",
   "execution_count": 137,
   "metadata": {},
   "outputs": [
    {
     "data": {
      "text/html": [
       "<div>\n",
       "<style scoped>\n",
       "    .dataframe tbody tr th:only-of-type {\n",
       "        vertical-align: middle;\n",
       "    }\n",
       "\n",
       "    .dataframe tbody tr th {\n",
       "        vertical-align: top;\n",
       "    }\n",
       "\n",
       "    .dataframe thead th {\n",
       "        text-align: right;\n",
       "    }\n",
       "</style>\n",
       "<table border=\"1\" class=\"dataframe\">\n",
       "  <thead>\n",
       "    <tr style=\"text-align: right;\">\n",
       "      <th></th>\n",
       "      <th>sentence_id</th>\n",
       "      <th>arg1</th>\n",
       "      <th>arg2</th>\n",
       "      <th>title</th>\n",
       "      <th>article_link</th>\n",
       "      <th>pmc_id</th>\n",
       "      <th>doi</th>\n",
       "      <th>pdf_sha</th>\n",
       "      <th>pubmed_id</th>\n",
       "      <th>msft_id</th>\n",
       "      <th>arg1_first_index</th>\n",
       "      <th>arg1_last_index</th>\n",
       "      <th>arg2_first_index</th>\n",
       "      <th>arg2_last_index</th>\n",
       "      <th>sentence_text</th>\n",
       "      <th>paragraph_text</th>\n",
       "    </tr>\n",
       "  </thead>\n",
       "  <tbody>\n",
       "    <tr>\n",
       "      <th>0</th>\n",
       "      <td>8903</td>\n",
       "      <td>Mouse hepatitis virus infection of mice</td>\n",
       "      <td>long-term depletion of lactate dehydrogenase-e...</td>\n",
       "      <td>Mouse hepatitis virus infection of mice causes...</td>\n",
       "      <td>https://www.ncbi.nlm.nih.gov/pmc/articles/PMC7...</td>\n",
       "      <td>PMC7173247</td>\n",
       "      <td>10.1016/0168-1702(95)00092-5</td>\n",
       "      <td>NaN</td>\n",
       "      <td>8837897.0</td>\n",
       "      <td>NaN</td>\n",
       "      <td>0</td>\n",
       "      <td>5</td>\n",
       "      <td>7</td>\n",
       "      <td>13</td>\n",
       "      <td>Mouse hepatitis virus infection of mice causes...</td>\n",
       "      <td>Mouse hepatitis virus infection of mice causes...</td>\n",
       "    </tr>\n",
       "    <tr>\n",
       "      <th>1</th>\n",
       "      <td>8903</td>\n",
       "      <td>Mouse hepatitis virus infection of mice</td>\n",
       "      <td>lactate dehydrogenase-elevating virus-permissi...</td>\n",
       "      <td>Mouse hepatitis virus infection of mice causes...</td>\n",
       "      <td>https://www.ncbi.nlm.nih.gov/pmc/articles/PMC7...</td>\n",
       "      <td>PMC7173247</td>\n",
       "      <td>10.1016/0168-1702(95)00092-5</td>\n",
       "      <td>NaN</td>\n",
       "      <td>8837897.0</td>\n",
       "      <td>NaN</td>\n",
       "      <td>0</td>\n",
       "      <td>5</td>\n",
       "      <td>10</td>\n",
       "      <td>13</td>\n",
       "      <td>Mouse hepatitis virus infection of mice causes...</td>\n",
       "      <td>Mouse hepatitis virus infection of mice causes...</td>\n",
       "    </tr>\n",
       "    <tr>\n",
       "      <th>2</th>\n",
       "      <td>8903</td>\n",
       "      <td>Mouse hepatitis virus infection of mice</td>\n",
       "      <td>T lymphocyte alterations</td>\n",
       "      <td>Mouse hepatitis virus infection of mice causes...</td>\n",
       "      <td>https://www.ncbi.nlm.nih.gov/pmc/articles/PMC7...</td>\n",
       "      <td>PMC7173247</td>\n",
       "      <td>10.1016/0168-1702(95)00092-5</td>\n",
       "      <td>NaN</td>\n",
       "      <td>8837897.0</td>\n",
       "      <td>NaN</td>\n",
       "      <td>0</td>\n",
       "      <td>5</td>\n",
       "      <td>15</td>\n",
       "      <td>17</td>\n",
       "      <td>Mouse hepatitis virus infection of mice causes...</td>\n",
       "      <td>Mouse hepatitis virus infection of mice causes...</td>\n",
       "    </tr>\n",
       "    <tr>\n",
       "      <th>3</th>\n",
       "      <td>8903</td>\n",
       "      <td>mice</td>\n",
       "      <td>long-term depletion of lactate dehydrogenase-e...</td>\n",
       "      <td>Mouse hepatitis virus infection of mice causes...</td>\n",
       "      <td>https://www.ncbi.nlm.nih.gov/pmc/articles/PMC7...</td>\n",
       "      <td>PMC7173247</td>\n",
       "      <td>10.1016/0168-1702(95)00092-5</td>\n",
       "      <td>NaN</td>\n",
       "      <td>8837897.0</td>\n",
       "      <td>NaN</td>\n",
       "      <td>5</td>\n",
       "      <td>5</td>\n",
       "      <td>7</td>\n",
       "      <td>13</td>\n",
       "      <td>Mouse hepatitis virus infection of mice causes...</td>\n",
       "      <td>Mouse hepatitis virus infection of mice causes...</td>\n",
       "    </tr>\n",
       "    <tr>\n",
       "      <th>4</th>\n",
       "      <td>8903</td>\n",
       "      <td>mice</td>\n",
       "      <td>lactate dehydrogenase-elevating virus-permissi...</td>\n",
       "      <td>Mouse hepatitis virus infection of mice causes...</td>\n",
       "      <td>https://www.ncbi.nlm.nih.gov/pmc/articles/PMC7...</td>\n",
       "      <td>PMC7173247</td>\n",
       "      <td>10.1016/0168-1702(95)00092-5</td>\n",
       "      <td>NaN</td>\n",
       "      <td>8837897.0</td>\n",
       "      <td>NaN</td>\n",
       "      <td>5</td>\n",
       "      <td>5</td>\n",
       "      <td>10</td>\n",
       "      <td>13</td>\n",
       "      <td>Mouse hepatitis virus infection of mice causes...</td>\n",
       "      <td>Mouse hepatitis virus infection of mice causes...</td>\n",
       "    </tr>\n",
       "    <tr>\n",
       "      <th>...</th>\n",
       "      <td>...</td>\n",
       "      <td>...</td>\n",
       "      <td>...</td>\n",
       "      <td>...</td>\n",
       "      <td>...</td>\n",
       "      <td>...</td>\n",
       "      <td>...</td>\n",
       "      <td>...</td>\n",
       "      <td>...</td>\n",
       "      <td>...</td>\n",
       "      <td>...</td>\n",
       "      <td>...</td>\n",
       "      <td>...</td>\n",
       "      <td>...</td>\n",
       "      <td>...</td>\n",
       "      <td>...</td>\n",
       "    </tr>\n",
       "    <tr>\n",
       "      <th>95</th>\n",
       "      <td>851682</td>\n",
       "      <td>Novel 2019 coronavirus ( COVID-19 ) infection</td>\n",
       "      <td>a respiratory disease</td>\n",
       "      <td>Acute lower limb ischemia as clinical presenta...</td>\n",
       "      <td>https://www.ncbi.nlm.nih.gov/pmc/articles/PMC7...</td>\n",
       "      <td>PMC7417264</td>\n",
       "      <td>10.1016/j.avsg.2020.08.004</td>\n",
       "      <td>NaN</td>\n",
       "      <td>32791191.0</td>\n",
       "      <td>NaN</td>\n",
       "      <td>0</td>\n",
       "      <td>6</td>\n",
       "      <td>9</td>\n",
       "      <td>11</td>\n",
       "      <td>Novel 2019 coronavirus ( COVID-19 ) infection ...</td>\n",
       "      <td>Novel 2019 coronavirus (COVID-19) infection us...</td>\n",
       "    </tr>\n",
       "    <tr>\n",
       "      <th>96</th>\n",
       "      <td>851682</td>\n",
       "      <td>COVID-19</td>\n",
       "      <td>a respiratory disease</td>\n",
       "      <td>Acute lower limb ischemia as clinical presenta...</td>\n",
       "      <td>https://www.ncbi.nlm.nih.gov/pmc/articles/PMC7...</td>\n",
       "      <td>PMC7417264</td>\n",
       "      <td>10.1016/j.avsg.2020.08.004</td>\n",
       "      <td>NaN</td>\n",
       "      <td>32791191.0</td>\n",
       "      <td>NaN</td>\n",
       "      <td>4</td>\n",
       "      <td>4</td>\n",
       "      <td>9</td>\n",
       "      <td>11</td>\n",
       "      <td>Novel 2019 coronavirus ( COVID-19 ) infection ...</td>\n",
       "      <td>Novel 2019 coronavirus (COVID-19) infection us...</td>\n",
       "    </tr>\n",
       "    <tr>\n",
       "      <th>97</th>\n",
       "      <td>855160</td>\n",
       "      <td>Novel 2019 coronavirus infection</td>\n",
       "      <td>a respiratory disease</td>\n",
       "      <td>Acute lower limb ischemia as clinical presenta...</td>\n",
       "      <td>https://www.ncbi.nlm.nih.gov/pmc/articles/PMC7...</td>\n",
       "      <td>PMC7417264</td>\n",
       "      <td>10.1016/j.avsg.2020.08.004</td>\n",
       "      <td>NaN</td>\n",
       "      <td>32791191.0</td>\n",
       "      <td>NaN</td>\n",
       "      <td>0</td>\n",
       "      <td>3</td>\n",
       "      <td>6</td>\n",
       "      <td>8</td>\n",
       "      <td>Novel 2019 coronavirus infection usually cause...</td>\n",
       "      <td>Novel 2019 coronavirus infection usually cause...</td>\n",
       "    </tr>\n",
       "    <tr>\n",
       "      <th>98</th>\n",
       "      <td>927797</td>\n",
       "      <td>ADV infection</td>\n",
       "      <td>symptoms of low respiratory illness</td>\n",
       "      <td>Epidemiology of Acute Respiratory Infections i...</td>\n",
       "      <td>https://www.ncbi.nlm.nih.gov/pmc/articles/PMC4...</td>\n",
       "      <td>PMC4010508</td>\n",
       "      <td>10.1371/journal.pone.0096674</td>\n",
       "      <td>NaN</td>\n",
       "      <td>24797911.0</td>\n",
       "      <td>NaN</td>\n",
       "      <td>0</td>\n",
       "      <td>1</td>\n",
       "      <td>4</td>\n",
       "      <td>8</td>\n",
       "      <td>ADV infection usually causes symptoms of low r...</td>\n",
       "      <td>ADV infection usually causes symptoms of low r...</td>\n",
       "    </tr>\n",
       "    <tr>\n",
       "      <th>99</th>\n",
       "      <td>927797</td>\n",
       "      <td>ADV infection</td>\n",
       "      <td>low respiratory illness</td>\n",
       "      <td>Epidemiology of Acute Respiratory Infections i...</td>\n",
       "      <td>https://www.ncbi.nlm.nih.gov/pmc/articles/PMC4...</td>\n",
       "      <td>PMC4010508</td>\n",
       "      <td>10.1371/journal.pone.0096674</td>\n",
       "      <td>NaN</td>\n",
       "      <td>24797911.0</td>\n",
       "      <td>NaN</td>\n",
       "      <td>0</td>\n",
       "      <td>1</td>\n",
       "      <td>6</td>\n",
       "      <td>8</td>\n",
       "      <td>ADV infection usually causes symptoms of low r...</td>\n",
       "      <td>ADV infection usually causes symptoms of low r...</td>\n",
       "    </tr>\n",
       "  </tbody>\n",
       "</table>\n",
       "<p>100 rows × 16 columns</p>\n",
       "</div>"
      ],
      "text/plain": [
       "    sentence_id                                           arg1  \\\n",
       "0          8903        Mouse hepatitis virus infection of mice   \n",
       "1          8903        Mouse hepatitis virus infection of mice   \n",
       "2          8903        Mouse hepatitis virus infection of mice   \n",
       "3          8903                                           mice   \n",
       "4          8903                                           mice   \n",
       "..          ...                                            ...   \n",
       "95       851682  Novel 2019 coronavirus ( COVID-19 ) infection   \n",
       "96       851682                                       COVID-19   \n",
       "97       855160               Novel 2019 coronavirus infection   \n",
       "98       927797                                  ADV infection   \n",
       "99       927797                                  ADV infection   \n",
       "\n",
       "                                                 arg2  \\\n",
       "0   long-term depletion of lactate dehydrogenase-e...   \n",
       "1   lactate dehydrogenase-elevating virus-permissi...   \n",
       "2                            T lymphocyte alterations   \n",
       "3   long-term depletion of lactate dehydrogenase-e...   \n",
       "4   lactate dehydrogenase-elevating virus-permissi...   \n",
       "..                                                ...   \n",
       "95                              a respiratory disease   \n",
       "96                              a respiratory disease   \n",
       "97                              a respiratory disease   \n",
       "98                symptoms of low respiratory illness   \n",
       "99                            low respiratory illness   \n",
       "\n",
       "                                                title  \\\n",
       "0   Mouse hepatitis virus infection of mice causes...   \n",
       "1   Mouse hepatitis virus infection of mice causes...   \n",
       "2   Mouse hepatitis virus infection of mice causes...   \n",
       "3   Mouse hepatitis virus infection of mice causes...   \n",
       "4   Mouse hepatitis virus infection of mice causes...   \n",
       "..                                                ...   \n",
       "95  Acute lower limb ischemia as clinical presenta...   \n",
       "96  Acute lower limb ischemia as clinical presenta...   \n",
       "97  Acute lower limb ischemia as clinical presenta...   \n",
       "98  Epidemiology of Acute Respiratory Infections i...   \n",
       "99  Epidemiology of Acute Respiratory Infections i...   \n",
       "\n",
       "                                         article_link      pmc_id  \\\n",
       "0   https://www.ncbi.nlm.nih.gov/pmc/articles/PMC7...  PMC7173247   \n",
       "1   https://www.ncbi.nlm.nih.gov/pmc/articles/PMC7...  PMC7173247   \n",
       "2   https://www.ncbi.nlm.nih.gov/pmc/articles/PMC7...  PMC7173247   \n",
       "3   https://www.ncbi.nlm.nih.gov/pmc/articles/PMC7...  PMC7173247   \n",
       "4   https://www.ncbi.nlm.nih.gov/pmc/articles/PMC7...  PMC7173247   \n",
       "..                                                ...         ...   \n",
       "95  https://www.ncbi.nlm.nih.gov/pmc/articles/PMC7...  PMC7417264   \n",
       "96  https://www.ncbi.nlm.nih.gov/pmc/articles/PMC7...  PMC7417264   \n",
       "97  https://www.ncbi.nlm.nih.gov/pmc/articles/PMC7...  PMC7417264   \n",
       "98  https://www.ncbi.nlm.nih.gov/pmc/articles/PMC4...  PMC4010508   \n",
       "99  https://www.ncbi.nlm.nih.gov/pmc/articles/PMC4...  PMC4010508   \n",
       "\n",
       "                             doi  pdf_sha   pubmed_id  msft_id  \\\n",
       "0   10.1016/0168-1702(95)00092-5      NaN   8837897.0      NaN   \n",
       "1   10.1016/0168-1702(95)00092-5      NaN   8837897.0      NaN   \n",
       "2   10.1016/0168-1702(95)00092-5      NaN   8837897.0      NaN   \n",
       "3   10.1016/0168-1702(95)00092-5      NaN   8837897.0      NaN   \n",
       "4   10.1016/0168-1702(95)00092-5      NaN   8837897.0      NaN   \n",
       "..                           ...      ...         ...      ...   \n",
       "95    10.1016/j.avsg.2020.08.004      NaN  32791191.0      NaN   \n",
       "96    10.1016/j.avsg.2020.08.004      NaN  32791191.0      NaN   \n",
       "97    10.1016/j.avsg.2020.08.004      NaN  32791191.0      NaN   \n",
       "98  10.1371/journal.pone.0096674      NaN  24797911.0      NaN   \n",
       "99  10.1371/journal.pone.0096674      NaN  24797911.0      NaN   \n",
       "\n",
       "    arg1_first_index  arg1_last_index  arg2_first_index  arg2_last_index  \\\n",
       "0                  0                5                 7               13   \n",
       "1                  0                5                10               13   \n",
       "2                  0                5                15               17   \n",
       "3                  5                5                 7               13   \n",
       "4                  5                5                10               13   \n",
       "..               ...              ...               ...              ...   \n",
       "95                 0                6                 9               11   \n",
       "96                 4                4                 9               11   \n",
       "97                 0                3                 6                8   \n",
       "98                 0                1                 4                8   \n",
       "99                 0                1                 6                8   \n",
       "\n",
       "                                        sentence_text  \\\n",
       "0   Mouse hepatitis virus infection of mice causes...   \n",
       "1   Mouse hepatitis virus infection of mice causes...   \n",
       "2   Mouse hepatitis virus infection of mice causes...   \n",
       "3   Mouse hepatitis virus infection of mice causes...   \n",
       "4   Mouse hepatitis virus infection of mice causes...   \n",
       "..                                                ...   \n",
       "95  Novel 2019 coronavirus ( COVID-19 ) infection ...   \n",
       "96  Novel 2019 coronavirus ( COVID-19 ) infection ...   \n",
       "97  Novel 2019 coronavirus infection usually cause...   \n",
       "98  ADV infection usually causes symptoms of low r...   \n",
       "99  ADV infection usually causes symptoms of low r...   \n",
       "\n",
       "                                       paragraph_text  \n",
       "0   Mouse hepatitis virus infection of mice causes...  \n",
       "1   Mouse hepatitis virus infection of mice causes...  \n",
       "2   Mouse hepatitis virus infection of mice causes...  \n",
       "3   Mouse hepatitis virus infection of mice causes...  \n",
       "4   Mouse hepatitis virus infection of mice causes...  \n",
       "..                                                ...  \n",
       "95  Novel 2019 coronavirus (COVID-19) infection us...  \n",
       "96  Novel 2019 coronavirus (COVID-19) infection us...  \n",
       "97  Novel 2019 coronavirus infection usually cause...  \n",
       "98  ADV infection usually causes symptoms of low r...  \n",
       "99  ADV infection usually causes symptoms of low r...  \n",
       "\n",
       "[100 rows x 16 columns]"
      ]
     },
     "execution_count": 137,
     "metadata": {},
     "output_type": "execute_result"
    }
   ],
   "source": [
    "queries2results[queries[0]]"
   ]
  },
  {
   "cell_type": "code",
   "execution_count": 191,
   "metadata": {},
   "outputs": [],
   "source": []
  },
  {
   "cell_type": "code",
   "execution_count": 181,
   "metadata": {},
   "outputs": [
    {
     "name": "stderr",
     "output_type": "stream",
     "text": [
      "2020-10-19 19:00:04.273 INFO    filelock: Lock 139840848406224 acquired on /home/shauli/.cache/torch/transformers/199e28e62d2210c23d63625bd9eecc20cf72a156b29e2a540d4933af4f50bda1.4b6b9f5d813f7395e7ea533039e02deb1723d8fd9d8ba655391a01a69ad6223d.lock\n"
     ]
    },
    {
     "data": {
      "application/vnd.jupyter.widget-view+json": {
       "model_id": "e53fa6c32d344c9da1585026e47ae80e",
       "version_major": 2,
       "version_minor": 0
      },
      "text/plain": [
       "HBox(children=(FloatProgress(value=0.0, description='Downloading', max=385.0, style=ProgressStyle(description_…"
      ]
     },
     "metadata": {},
     "output_type": "display_data"
    },
    {
     "name": "stderr",
     "output_type": "stream",
     "text": [
      "2020-10-19 19:00:05.011 INFO    filelock: Lock 139840848406224 released on /home/shauli/.cache/torch/transformers/199e28e62d2210c23d63625bd9eecc20cf72a156b29e2a540d4933af4f50bda1.4b6b9f5d813f7395e7ea533039e02deb1723d8fd9d8ba655391a01a69ad6223d.lock\n"
     ]
    },
    {
     "name": "stdout",
     "output_type": "stream",
     "text": [
      "\n"
     ]
    },
    {
     "name": "stderr",
     "output_type": "stream",
     "text": [
      "2020-10-19 19:00:05.757 INFO    filelock: Lock 139839988439312 acquired on /home/shauli/.cache/torch/transformers/e3debd8fbdf40874753724814ee0520f612b577b26c8755bca485103b47cd3bc.60287becc5ab96d85a4bf377eb90feaf3b9c80d3b23e84311dccd3588f56d4fb.lock\n"
     ]
    },
    {
     "data": {
      "application/vnd.jupyter.widget-view+json": {
       "model_id": "1c148575750f4b2abaca651a7bf8e4a7",
       "version_major": 2,
       "version_minor": 0
      },
      "text/plain": [
       "HBox(children=(FloatProgress(value=0.0, description='Downloading', max=227845.0, style=ProgressStyle(descripti…"
      ]
     },
     "metadata": {},
     "output_type": "display_data"
    },
    {
     "name": "stderr",
     "output_type": "stream",
     "text": [
      "2020-10-19 19:00:07.023 INFO    filelock: Lock 139839988439312 released on /home/shauli/.cache/torch/transformers/e3debd8fbdf40874753724814ee0520f612b577b26c8755bca485103b47cd3bc.60287becc5ab96d85a4bf377eb90feaf3b9c80d3b23e84311dccd3588f56d4fb.lock\n"
     ]
    },
    {
     "name": "stdout",
     "output_type": "stream",
     "text": [
      "\n"
     ]
    }
   ],
   "source": [
    "tokenizer = AutoTokenizer.from_pretrained('allenai/scibert_scivocab_uncased')"
   ]
  },
  {
   "cell_type": "code",
   "execution_count": 390,
   "metadata": {},
   "outputs": [],
   "source": [
    "class BertModel(pl.LightningModule):\n",
    "\n",
    "    def __init__(self, train_dataset: Dataset, dev_dataset: Dataset, batch_size, device: str, mode: str = \"eval\"):\n",
    "        \n",
    "        super().__init__()\n",
    "        \n",
    "        self.device = device\n",
    "        config = AutoConfig.from_pretrained('allenai/scibert_scivocab_uncased', output_hidden_states=True)\n",
    "        self.tokenizer = AutoTokenizer.from_pretrained('allenai/scibert_scivocab_uncased')\n",
    "        self.model = AutoModel.from_pretrained('allenai/scibert_scivocab_uncased', config=config)    \n",
    "        self.train_dataset = train_dataset\n",
    "        self.dev_dataset = dev_dataset\n",
    "        \n",
    "        if mode == \"eval\":\n",
    "            \n",
    "            self.model.eval()\n",
    "        else:\n",
    "            self.model.train()\n",
    "            \n",
    "        self.train_gen = torch.utils.data.DataLoader(self.train_dataset, batch_size=batch_size, drop_last=False, shuffle=True)\n",
    "        self.dev_gen = torch.utils.data.DataLoader(self.dev_dataset, batch_size=batch_size, drop_last=False, shuffle=True)\n",
    "        self.acc = None\n",
    "\n",
    "        \n",
    "    def tokenize(self, original_sentence: List[str]) -> Tuple[List[str], Dict[int, int]]:\n",
    "\n",
    "        \"\"\"\n",
    "        Parameters\n",
    "        ----------\n",
    "        Returns\n",
    "        -------\n",
    "        bert_tokens: The sentence, tokenized by BERT tokenizer.\n",
    "        orig_to_tok_map: An output dictionary consisting of a mapping (alignment) between indices in the original tokenized sentence, and indices in the sentence tokenized by the BERT tokenizer. See https://github.com/google-research/bert\n",
    "        \"\"\"\n",
    "\n",
    "        bert_tokens = [\"[CLS]\"]\n",
    "        orig_to_tok_map = {}\n",
    "        tok_to_orig_map = {}\n",
    "        has_subwords = False\n",
    "        is_subword = []\n",
    "\n",
    "        for i, w in enumerate(original_sentence):\n",
    "            tokenized_w = self.tokenizer.tokenize(w)\n",
    "            has_subwords = len(tokenized_w) > 1\n",
    "            is_subword.append(has_subwords)\n",
    "            bert_tokens.extend(tokenized_w)\n",
    "\n",
    "            orig_to_tok_map[i] = len(bert_tokens) - 1\n",
    "\n",
    "        tok_to_orig_map = {}\n",
    "\n",
    "        keys = list(sorted(orig_to_tok_map.keys()))\n",
    "        for k, k2 in zip(keys, keys[1:]):\n",
    "            for k3 in range(orig_to_tok_map[k], orig_to_tok_map[k2]):\n",
    "                tok_to_orig_map[k3] = k\n",
    "\n",
    "        bert_tokens.append(\"[SEP]\")\n",
    "        \n",
    "        indexed_tokens = self.tokenizer.convert_tokens_to_ids(bert_tokens)\n",
    "        tokens_tensor = torch.tensor([indexed_tokens])\n",
    "\n",
    "        return (bert_tokens, orig_to_tok_map, tok_to_orig_map, tokens_tensor)\n",
    "    \n",
    "    \n",
    "    def forward(self, x):\n",
    "        \n",
    "        outputs = self.model(x)\n",
    "        states = outputs[0][0] #[seq_len, 768]\n",
    "        return states\n",
    "    \n",
    "    def forward_with_loss_calculation(self, x, sent1_idx, sent2_idx, orig_to_tok_map, l):\n",
    "        \n",
    "        outputs = self.model(x)\n",
    "        states = outputs[0][0] #[seq_len, 768]\n",
    "        states = states/torch.norm(states, dim = 1, keepdim = True)\n",
    "        sent1_arg1_vec, sent1_arg2_vec = states[orig_to_tok_map[sent1_idx[0]]], states[orig_to_tok_map[sent1_idx[1]]]  \n",
    "        states_sent2 = states[orig_to_tok_map[l]:]\n",
    "        \n",
    "        \n",
    "        sims_arg1 = sent1_arg1_vec @ states.T\n",
    "        sims_arg2 = sent1_arg2_vec @ states.T\n",
    "        sim_arg1_gold = sims_arg1[orig_to_tok_map[sent2_idx[0]]]\n",
    "        sim_arg2_gold = sims_arg2[orig_to_tok_map[sent2_idx[1]]]\n",
    "        \n",
    "        idx_arg1 = torch.argsort(sims_arg1)\n",
    "        idx_arg2 = torch.argsort(sims_arg2)\n",
    "        \n",
    "        most_sim_arg1, most_sim_arg2 = sims_arg1[idx_arg1[-2]], sims_arg2[idx_arg2[-2]]\n",
    "        \n",
    "        alpha = 0.1\n",
    "        loss_arg1 = torch.max(torch.zeros(1), -sim_arg1_gold - most_sim_arg1 - alpha)\n",
    "        loss_arg2 = torch.max(torch.zeros(1), -sim_arg2_gold - most_sim_arg2 - alpha)\n",
    "        loss = loss_arg1 + loss_arg2\n",
    "        \n",
    "        return loss\n",
    "    \n",
    "    def training_step(self, batch, batch_nb):\n",
    "        \n",
    "        sents_concat, (sent1_arg1, sent1_arg2), (sent2_arg1, sent2_arg2), l = batch[0]    \n",
    "        bert_tokens, orig_to_tok_map, tok_to_orig_map, tokens_tensor = self.tokenize(sents_concat.split(\" \"))        \n",
    "        loss, logits = self.forward_with_loss_calculation(x, y)\n",
    "\n",
    "        correct = logits.argmax(axis=1).int() == y.int()\n",
    "        acc = torch.sum(correct).float() / len(y)\n",
    "\n",
    "        return {'loss': loss, 'val_acc': acc}\n",
    "    \n",
    "    def validation_step(self, batch, batch_nb):\n",
    "        sents_concat, (sent1_arg1, sent1_arg2), (sent2_arg1, sent2_arg2), l = batch[0]\n",
    "        bert_tokens, orig_to_tok_map, tok_to_orig_map, tokens_tensor = self.tokenize(sents_concat.split(\" \"))        \n",
    "\n",
    "        x = self.tokenize_and_pad(sents)\n",
    "        loss, logits = self.forward_with_loss_calculation(x,y)\n",
    "\n",
    "        correct = logits.argmax(axis=1).int() == y.int()\n",
    "        acc = torch.sum(correct).float() / len(y)\n",
    "\n",
    "        return {'val_loss': loss, 'val_acc': acc}\n",
    "    \n",
    "    def validation_end(self, outputs):\n",
    "        avg_loss = torch.stack([x['val_loss'] for x in outputs]).mean()\n",
    "        avg_acc = torch.stack([x['val_acc'] for x in outputs]).mean()\n",
    "        print(\"Loss is {}\".format(avg_loss))\n",
    "        print(\"Accuracy is {}\".format(avg_acc))\n",
    "        self.acc = avg_acc\n",
    "        return {'avg_val_loss': avg_loss}\n",
    "    \n",
    "    def configure_optimizers(self):\n",
    "        # return torch.optim.SGD(self.parameters(), lr=0.005, momentum=0.9)\n",
    "        return torch.optim.Adam(self.parameters(), weight_decay=1e-4)\n",
    "    \n",
    "    @pl.data_loader\n",
    "    def train_dataloader(self):\n",
    "        return self.train_gen\n",
    "\n",
    "    @pl.data_loader\n",
    "    def val_dataloader(self):\n",
    "        # OPTIONAL\n",
    "        # can also return a list of val dataloaders\n",
    "        return self.dev_gen"
   ]
  },
  {
   "cell_type": "code",
   "execution_count": 391,
   "metadata": {},
   "outputs": [],
   "source": [
    "class Dataset(torch.utils.data.Dataset):\n",
    "    \"\"\"Simple torch dataset class\"\"\"\n",
    "\n",
    "    def __init__(self, data: List[Dict], device = \"cpu\"):\n",
    "\n",
    "        self.data = data\n",
    "        self.device = device\n",
    "\n",
    "    def __len__(self):\n",
    "        return len(self.data)\n",
    "\n",
    "    def __getitem__(self, index):\n",
    "        with torch.no_grad():\n",
    "            \n",
    "            d = self.data[index]\n",
    "            sent1, sent2 = d[\"first\"], d[\"second\"]\n",
    "            sent1_arg1, sent1_arg2 = d[\"first_arg1\"][0], d[\"first_arg2\"][0]\n",
    "            sent2_arg1, sent2_arg2 = d[\"second_arg1\"][0], d[\"second_arg2\"][0]\n",
    "            \n",
    "            l = len(sent1.split(\" \")) + 1 \n",
    "            sent2_arg1, sent2_arg2 = sent2_arg1 + l, sent2_arg2 + l\n",
    "\n",
    "            sent2 = sent2.replace(\"ARG1:\", \"\").replace(\"ARG2:\", \"\")\n",
    "            sents_concat = sent1 + \" ***** \" + sent2 #sents_concat.split(\" \")[l] is the first token in the 2nd sent\n",
    "            \n",
    "            return sents_concat, (sent1_arg1, sent1_arg2), (sent2_arg1, sent2_arg2), l"
   ]
  },
  {
   "cell_type": "code",
   "execution_count": 392,
   "metadata": {},
   "outputs": [],
   "source": [
    "l = int(0.8 * len(data))\n",
    "train_dataset, dev_dataset = Dataset(data[:l], \"cpu\"), Dataset(data[l:])"
   ]
  },
  {
   "cell_type": "code",
   "execution_count": 399,
   "metadata": {},
   "outputs": [],
   "source": [
    "sents_concat, (sent1_arg1, sent1_arg2), (sent2_arg1, sent2_arg2), l = train_dataset[5]"
   ]
  },
  {
   "cell_type": "code",
   "execution_count": 400,
   "metadata": {},
   "outputs": [
    {
     "data": {
      "text/plain": [
       "'However , most of the infections remain subclinical , causing a latent ARG1:infection ( latent TB ) that can progress to active ARG2:pulmonary TB ( 10 % of latent TB cases ) ( Fatima et al. 2017 ) . ***** Presenting features of cough and fever subacutely progress to respiratory distress and acute respiratory distress sydrome ( ARDS ) in 8 - 19 % of patients , with the elderly and those with underlying comorbidities especially cardiovascular disease , diabetes mellitus , chronic pulmonary disorders or renal disease especially at risk https://www.epicentro.iss.it/coronavirus/bollettino/Report-COVID-2019_24_marzo_eng.pdf ( 42 ) ( 43 ) ( 44 ) ( 45 ) .'"
      ]
     },
     "execution_count": 400,
     "metadata": {},
     "output_type": "execute_result"
    }
   ],
   "source": [
    "sents_concat"
   ]
  },
  {
   "cell_type": "code",
   "execution_count": 401,
   "metadata": {},
   "outputs": [
    {
     "data": {
      "text/plain": [
       "'acute'"
      ]
     },
     "execution_count": 401,
     "metadata": {},
     "output_type": "execute_result"
    }
   ],
   "source": [
    "lst = sents_concat.split(\" \")\n",
    "lst[sent2_arg2]"
   ]
  },
  {
   "cell_type": "code",
   "execution_count": 396,
   "metadata": {},
   "outputs": [],
   "source": [
    "model = BertModel(train_dataset, dev_dataset, 1, \"cpu\", \"eval\")"
   ]
  },
  {
   "cell_type": "code",
   "execution_count": 402,
   "metadata": {},
   "outputs": [],
   "source": [
    "bert_tokens, orig_to_tok_map, tok_to_orig_map, tokens_tensor = model.tokenize(sents_concat.split(\" \"))\n",
    "indexed_tokens = model.tokenizer.convert_tokens_to_ids(bert_tokens)\n",
    "tokens_tensor = torch.tensor([indexed_tokens])"
   ]
  },
  {
   "cell_type": "code",
   "execution_count": 403,
   "metadata": {
    "scrolled": true
   },
   "outputs": [
    {
     "data": {
      "text/plain": [
       "tensor([0.], grad_fn=<AddBackward0>)"
      ]
     },
     "execution_count": 403,
     "metadata": {},
     "output_type": "execute_result"
    }
   ],
   "source": [
    "model.forward_with_loss_calculation(tokens_tensor, (sent1_arg1, sent1_arg2), (sent2_arg1, sent2_arg2), orig_to_tok_map, l)"
   ]
  },
  {
   "cell_type": "code",
   "execution_count": null,
   "metadata": {},
   "outputs": [],
   "source": []
  },
  {
   "cell_type": "code",
   "execution_count": 353,
   "metadata": {},
   "outputs": [
    {
     "data": {
      "text/plain": [
       "{0: 1,\n",
       " 1: 2,\n",
       " 2: 6,\n",
       " 3: 7,\n",
       " 4: 8,\n",
       " 5: 9,\n",
       " 6: 13,\n",
       " 7: 15,\n",
       " 8: 16,\n",
       " 9: 17,\n",
       " 10: 18,\n",
       " 11: 19,\n",
       " 12: 20,\n",
       " 13: 22,\n",
       " 14: 23,\n",
       " 15: 25,\n",
       " 16: 26,\n",
       " 17: 28,\n",
       " 18: 29,\n",
       " 19: 31,\n",
       " 20: 32,\n",
       " 21: 34,\n",
       " 22: 35,\n",
       " 23: 36,\n",
       " 24: 41,\n",
       " 25: 42,\n",
       " 26: 43,\n",
       " 27: 45,\n",
       " 28: 47,\n",
       " 29: 48,\n",
       " 30: 52,\n",
       " 31: 53,\n",
       " 32: 54,\n",
       " 33: 55,\n",
       " 34: 56,\n",
       " 35: 57,\n",
       " 36: 58,\n",
       " 37: 59,\n",
       " 38: 60,\n",
       " 39: 62,\n",
       " 40: 63,\n",
       " 41: 64,\n",
       " 42: 66,\n",
       " 43: 67,\n",
       " 44: 69,\n",
       " 45: 70,\n",
       " 46: 71,\n",
       " 47: 72,\n",
       " 48: 73,\n",
       " 49: 74,\n",
       " 50: 75}"
      ]
     },
     "execution_count": 353,
     "metadata": {},
     "output_type": "execute_result"
    }
   ],
   "source": [
    "orig_to_tok_map"
   ]
  },
  {
   "cell_type": "code",
   "execution_count": 379,
   "metadata": {},
   "outputs": [
    {
     "data": {
      "text/plain": [
       "<function _VariableFunctionsClass.max>"
      ]
     },
     "execution_count": 379,
     "metadata": {},
     "output_type": "execute_result"
    }
   ],
   "source": [
    "torch.max"
   ]
  },
  {
   "cell_type": "code",
   "execution_count": 389,
   "metadata": {},
   "outputs": [
    {
     "data": {
      "text/plain": [
       "tensor([0.])"
      ]
     },
     "execution_count": 389,
     "metadata": {},
     "output_type": "execute_result"
    }
   ],
   "source": [
    "torch.zeros(1)"
   ]
  },
  {
   "cell_type": "code",
   "execution_count": null,
   "metadata": {},
   "outputs": [],
   "source": []
  }
 ],
 "metadata": {
  "kernelspec": {
   "display_name": "Python 3",
   "language": "python",
   "name": "python3"
  },
  "language_info": {
   "codemirror_mode": {
    "name": "ipython",
    "version": 3
   },
   "file_extension": ".py",
   "mimetype": "text/x-python",
   "name": "python",
   "nbconvert_exporter": "python",
   "pygments_lexer": "ipython3",
   "version": "3.7.9"
  }
 },
 "nbformat": 4,
 "nbformat_minor": 4
}
