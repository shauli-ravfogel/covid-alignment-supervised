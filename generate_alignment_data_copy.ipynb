{
 "cells": [
  {
   "cell_type": "code",
   "execution_count": 11,
   "metadata": {},
   "outputs": [
    {
     "name": "stdout",
     "output_type": "stream",
     "text": [
      "The autoreload extension is already loaded. To reload it, use:\n",
      "  %reload_ext autoreload\n"
     ]
    }
   ],
   "source": [
    "%load_ext autoreload\n",
    "%autoreload 2\n",
    "import spike_queries\n",
    "import pandas as pd\n",
    "import tqdm\n",
    "import pickle\n",
    "import random\n",
    "import itertools\n",
    "\n",
    "import torch\n",
    "from transformers import BertTokenizer\n",
    "from torch.utils.data import TensorDataset, DataLoader, RandomSampler, SequentialSampler\n",
    "from transformers import AutoTokenizer, AutoModel, AutoConfig\n",
    "from transformers import BertForSequenceClassification, AdamW, BertConfig, BertModel, AutoTokenizer, AutoModel, PreTrainedTokenizerFast\n",
    "import numpy as np\n",
    "from typing import List\n",
    "from torch import nn\n",
    "import pytorch_lightning as pl\n",
    "from pytorch_lightning import Trainer\n",
    "from torch.utils.data import DataLoader\n",
    "from torch.utils.data import Dataset\n",
    "from typing import Dict, Tuple\n",
    "from scipy.spatial.distance import cosine as cosine_distance\n",
    "\n"
   ]
  },
  {
   "cell_type": "code",
   "execution_count": 12,
   "metadata": {},
   "outputs": [],
   "source": [
    "with open(\"queries2.txt\", \"r\") as f:\n",
    "    queries = f.readlines()\n",
    "    queries = [l.strip() for l in queries]\n",
    "    "
   ]
  },
  {
   "cell_type": "code",
   "execution_count": 13,
   "metadata": {},
   "outputs": [],
   "source": [
    "for i,q in enumerate(queries):\n",
    "    a = q.count(\"arg1:\") == q.count(\"arg2:\") == 1\n",
    "    if not a:\n",
    "        print(i,q)"
   ]
  },
  {
   "cell_type": "code",
   "execution_count": 5,
   "metadata": {},
   "outputs": [],
   "source": [
    "queries2results = dict()"
   ]
  },
  {
   "cell_type": "code",
   "execution_count": 6,
   "metadata": {},
   "outputs": [
    {
     "name": "stderr",
     "output_type": "stream",
     "text": [
      "100%|██████████| 50/50 [04:38<00:00,  5.57s/it]\n"
     ]
    }
   ],
   "source": [
    "dataset_name = \"covid19\"\n",
    "num_results = 100\n",
    "query_type = \"syntactic\"\n",
    "\n",
    "for q in tqdm.tqdm(queries, total = len(queries)):\n",
    "    df = spike_queries.perform_query(q, dataset_name, num_results, query_type) #previously: word=Hawaii\n",
    "    queries2results[q] = df"
   ]
  },
  {
   "cell_type": "code",
   "execution_count": 7,
   "metadata": {},
   "outputs": [],
   "source": [
    "with open(\"queries2results.pickle\", \"wb\") as f:\n",
    "     pickle.dump(queries2results, f)"
   ]
  },
  {
   "cell_type": "code",
   "execution_count": 8,
   "metadata": {},
   "outputs": [],
   "source": [
    "with open(\"queries2results.pickle\", \"rb\") as f:\n",
    "    queries2results = pickle.load(f)"
   ]
  },
  {
   "cell_type": "code",
   "execution_count": 9,
   "metadata": {},
   "outputs": [
    {
     "name": "stdout",
     "output_type": "stream",
     "text": [
      "10000\n",
      "1225\n",
      "10000\n",
      "10000\n",
      "36\n",
      "10000\n",
      "10000\n",
      "10000\n",
      "81\n",
      "10000\n",
      "10000\n",
      "10000\n",
      "10000\n",
      "10000\n",
      "2601\n",
      "10000\n",
      "5041\n",
      "10000\n",
      "10000\n",
      "576\n",
      "10000\n",
      "4096\n",
      "10000\n",
      "10000\n",
      "169\n",
      "6241\n",
      "10000\n",
      "4\n",
      "10000\n",
      "841\n",
      "3721\n",
      "10000\n",
      "10000\n",
      "441\n",
      "2704\n",
      "169\n",
      "10000\n",
      "3969\n",
      "361\n",
      "10000\n",
      "10000\n",
      "10000\n",
      "576\n",
      "10000\n",
      "16\n",
      "25\n",
      "196\n",
      "10000\n",
      "10000\n",
      "576\n"
     ]
    }
   ],
   "source": [
    "data = []\n",
    "for q in queries:\n",
    "    #print(q)\n",
    "    results = queries2results[q]\n",
    "    sents, arg1_first, arg2_first = results[\"sentence_text\"].tolist(), results[\"arg1_first_index\"].tolist(), results[\"arg2_first_index\"].tolist()\n",
    "    arg1_last, arg2_last = results[\"arg1_last_index\"].tolist(), results[\"arg2_last_index\"].tolist()\n",
    "    \n",
    "    sents_with_args = []\n",
    "    for s,arg1_ind,arg2_ind, arg1_ind_last, arg2_ind_last in zip(sents,arg1_first,arg2_first, arg1_last, arg2_last):\n",
    "        s_lst = s.split(\" \")\n",
    "        if arg1_ind > arg2_ind:\n",
    "            arg1_ind, arg2_ind = arg2_ind, arg1_ind\n",
    "            arg1_ind_last, arg2_ind_last = arg2_ind_last, arg1_ind_last\n",
    "            arg1_str, arg2_str = \"ARG2:\", \"ARG1:\"\n",
    "        else:\n",
    "            arg1_str, arg2_str = \"ARG1:\", \"ARG2:\"\n",
    "        s_with_args = s_lst[:arg1_ind] + [arg1_str+s_lst[arg1_ind]] + s_lst[arg1_ind+1:arg2_ind] + [arg2_str+s_lst[arg2_ind]] + s_lst[arg2_ind+1:]\n",
    "        s_with_args = \" \".join(s_with_args)\n",
    "        sents_with_args.append({\"sent\": s_with_args, \"start_1\": arg1_ind, \"start_2\": arg2_ind, \"end_1\": arg1_ind_last,\n",
    "                               \"end_2\": arg2_ind_last})\n",
    "    \n",
    "    max_number_of_pairs = 150\n",
    "    pairs = list(itertools.product(sents_with_args, repeat=2))\n",
    "    print(len(pairs))\n",
    "    random.shuffle(pairs)\n",
    "    for pair in pairs[:max_number_of_pairs]:\n",
    "        data.append({\"first\": pair[0][\"sent\"], \"second\": pair[1][\"sent\"], \"query\": q, \"first_arg1\": (pair[0][\"start_1\"], pair[0][\"end_1\"]),\n",
    "                    \"first_arg2\": (pair[0][\"start_2\"], pair[0][\"end_2\"]), \"second_arg1\": (pair[1][\"start_1\"], pair[1][\"end_1\"]),\n",
    "                   \"second_arg2\": (pair[1][\"start_2\"], pair[1][\"end_2\"])})"
   ]
  },
  {
   "cell_type": "code",
   "execution_count": 10,
   "metadata": {},
   "outputs": [
    {
     "data": {
      "text/plain": [
       "6912"
      ]
     },
     "execution_count": 10,
     "metadata": {},
     "output_type": "execute_result"
    }
   ],
   "source": [
    "len(data)"
   ]
  },
  {
   "cell_type": "code",
   "execution_count": 11,
   "metadata": {},
   "outputs": [],
   "source": [
    "random.shuffle(data)\n",
    "data[0]\n",
    "\n",
    "with open(\"data.pickle\", \"wb\") as f:\n",
    "    pickle.dump(data, f)"
   ]
  },
  {
   "cell_type": "code",
   "execution_count": 12,
   "metadata": {},
   "outputs": [],
   "source": [
    "\n",
    "with open(\"data.pickle\", \"rb\") as f:\n",
    "    data = pickle.load(f)"
   ]
  },
  {
   "cell_type": "code",
   "execution_count": 13,
   "metadata": {},
   "outputs": [],
   "source": [
    "import json\n",
    "\n",
    "with open(\"data.txt\", \"w\") as f:\n",
    "    for d in data:\n",
    "        first, second = d[\"first\"], d[\"second\"]\n",
    "        first_arg1 = d[\"first_arg1\"]\n",
    "        first_arg2 = d[\"first_arg2\"]\n",
    "        second_arg1 = d[\"second_arg1\"]\n",
    "        second_arg2 = d[\"second_arg2\"]\n",
    "        \n",
    "        elems = [first, second, first_arg1, first_arg2, second_arg1, second_arg2]\n",
    "        keys = [\"first\", \"second\", \"first_arg1\", \"first_arg2\"]\n",
    "        \n",
    "        f.write(json.dumps(d) + \"\\n\")\n",
    "        #f.write(d[\"first\"] + \"\\t\" + d[\"second\"] + \"\\t\" + d[\"query\"] + \"\\t\" + \"-\".join(d[\"first_arg1\"])+ \"\\n\")"
   ]
  },
  {
   "cell_type": "code",
   "execution_count": 14,
   "metadata": {},
   "outputs": [
    {
     "data": {
      "text/plain": [
       "{'first': 'Pharyngeal swab specimen of the ARG1:neonate was sent for examination 3 days after birth , and was positive for novel coronavirus nucleic acid by fluorescence reverse transcript polymerase chain reaction.@*Conclusion@#2019-nCoV may be transmitted vertically from ARG2:mother to child .',\n",
       " 'second': 'The outbreak of coronavirus disease 2019 ( COVID- 19 ) is an ongoing pandemic that is caused by severe acute respiratory syndrome coronavirus 2 ( SARS-CoV-2 ) , a new human ARG1:coronavirus that appears to be more readily transmitted from ARG2:human to human [ 3 , 4 ] .',\n",
       " 'query': 'arg1:something $transmitted $from arg2:something',\n",
       " 'first_arg1': (5, 5),\n",
       " 'first_arg2': (35, 35),\n",
       " 'second_arg1': (31, 31),\n",
       " 'second_arg2': (40, 40)}"
      ]
     },
     "execution_count": 14,
     "metadata": {},
     "output_type": "execute_result"
    }
   ],
   "source": [
    "random.shuffle(data)\n",
    "data[9]"
   ]
  },
  {
   "cell_type": "code",
   "execution_count": null,
   "metadata": {},
   "outputs": [],
   "source": [
    "queries2results[queries[0]] "
   ]
  },
  {
   "cell_type": "code",
   "execution_count": 22,
   "metadata": {},
   "outputs": [],
   "source": [
    "global count\n",
    "count = 0\n",
    "global total\n",
    "total = 0"
   ]
  },
  {
   "cell_type": "code",
   "execution_count": 15,
   "metadata": {},
   "outputs": [],
   "source": [
    "class BertModel(pl.LightningModule):\n",
    "\n",
    "    def __init__(self, train_dataset: Dataset, dev_dataset: Dataset, batch_size, device: str, mode: str = \"eval\"):\n",
    "        \n",
    "        super().__init__()\n",
    "        \n",
    "        self.device = device\n",
    "        config = AutoConfig.from_pretrained('allenai/scibert_scivocab_uncased', output_hidden_states=True)\n",
    "        self.tokenizer = AutoTokenizer.from_pretrained('allenai/scibert_scivocab_uncased')\n",
    "        self.model = AutoModel.from_pretrained('allenai/scibert_scivocab_uncased', config=config)    \n",
    "        self.train_dataset = train_dataset\n",
    "        self.dev_dataset = dev_dataset\n",
    "        self.linear_arg1_1 = torch.nn.Linear(768, 128)\n",
    "        self.linear_arg2_1 = torch.nn.Linear(768, 128)\n",
    "        self.linear_arg1_2 = torch.nn.Linear(768, 128)\n",
    "        self.linear_arg2_2 = torch.nn.Linear(768, 128)\n",
    "        \n",
    "        if mode == \"eval\":\n",
    "            \n",
    "            self.model.eval()\n",
    "        else:\n",
    "            self.model.train()\n",
    "        \n",
    "        for p in self.model.parameters():\n",
    "            p.requires_grad = False\n",
    "        for p in self.model.encoder.layer[-1].parameters():\n",
    "            p.requires_grad = True\n",
    "            \n",
    "        self.linear_arg1_1.requires_grad = True\n",
    "        self.linear_arg2_1.requires_grad = True\n",
    "        self.linear_arg1_2.requires_grad = True\n",
    "        self.linear_arg2_2.requires_grad = True\n",
    "        \n",
    "    \n",
    "        self.train_gen = torch.utils.data.DataLoader(self.train_dataset, batch_size=batch_size, drop_last=False, shuffle=True)\n",
    "        self.dev_gen = torch.utils.data.DataLoader(self.dev_dataset, batch_size=batch_size, drop_last=False, shuffle=False)\n",
    "        self.acc = None\n",
    "\n",
    "        \n",
    "    def tokenize(self, original_sentence: List[str]) -> Tuple[List[str], Dict[int, int]]:\n",
    "\n",
    "        \"\"\"\n",
    "        Parameters\n",
    "        ----------\n",
    "        Returns\n",
    "        -------\n",
    "        bert_tokens: The sentence, tokenized by BERT tokenizer.\n",
    "        orig_to_tok_map: An output dictionary consisting of a mapping (alignment) between indices in the original tokenized sentence, and indices in the sentence tokenized by the BERT tokenizer. See https://github.com/google-research/bert\n",
    "        \"\"\"\n",
    "\n",
    "        bert_tokens = [\"[CLS]\"]\n",
    "        orig_to_tok_map = {}\n",
    "        tok_to_orig_map = {}\n",
    "        has_subwords = False\n",
    "        is_subword = []\n",
    "\n",
    "        for i, w in enumerate(original_sentence):\n",
    "            tokenized_w = self.tokenizer.tokenize(w)\n",
    "            has_subwords = len(tokenized_w) > 1\n",
    "            is_subword.append(has_subwords)\n",
    "            bert_tokens.extend(tokenized_w)\n",
    "\n",
    "            orig_to_tok_map[i] = len(bert_tokens) - 1\n",
    "\n",
    "        tok_to_orig_map = {}\n",
    "\n",
    "        bert_tokens.append(\"[SEP]\")\n",
    "        tok_to_orig_map = get_tok_to_orig_map(orig_to_tok_map, len(original_sentence), len(bert_tokens))        \n",
    "        indexed_tokens = self.tokenizer.convert_tokens_to_ids(bert_tokens)\n",
    "        tokens_tensor = torch.tensor([indexed_tokens]).to(self.device)\n",
    "\n",
    "        return (bert_tokens, orig_to_tok_map, tok_to_orig_map, tokens_tensor)\n",
    "    \n",
    "    \n",
    "    def forward(self, x):\n",
    "        \n",
    "        outputs = self.model(x)\n",
    "        states = outputs[0][0] #[seq_len, 768]\n",
    "        return states\n",
    "    \n",
    "    def forward_with_loss_calculation2(self, bert_tokens, x, range_sent1, range_sent2, orig_to_tok_map, l, l_tokens):\n",
    "        \n",
    "        outputs = self.model(x)\n",
    "        states = outputs[0][0] #[seq_len, 768]\n",
    "        states = states / torch.norm(states, dim = 1, keepdim = True)\n",
    "        \n",
    "        arg1_sent1, arg2_sent1 = range_sent1\n",
    "        arg1_sent2, arg2_sent2 = range_sent2\n",
    "        \n",
    "        #print(range_sent1)\n",
    "        #print(arg1_sent1, arg2_sent1)\n",
    "        #print(range_sent2)\n",
    "        #print(arg1_sent2, arg2_sent2)\n",
    "        #print(states[arg1_sent1[0]:arg1_sent1[1]].shape)\n",
    "        #print(\"sent1 args (gold):\", bert_tokens[arg1_sent1[0]+3:arg1_sent1[1]], bert_tokens[arg2_sent1[0]+3:arg2_sent1[1]])\n",
    "        #print(\"sent2 args (gold):\", bert_tokens[arg1_sent2[0]:arg1_sent2[1]], bert_tokens[arg2_sent2[0]:arg2_sent2[1]])\n",
    "        #print(\"------------------------------------------------\")\n",
    "        \n",
    "        #sent1_arg1_vec, sent1_arg2_vec = states[arg1_sent1[0]+3:arg1_sent1[1]].mean(dim=0), states[arg2_sent1[0]+3:arg2_sent1[1]].mean(dim=0)\n",
    "        #sent2_arg1_vec, sent2_arg2_vec = states[arg1_sent2[0]:arg1_sent2[1]].mean(dim=0), states[arg2_sent2[0]:arg2_sent2[1]].mean(dim=0)\n",
    "        sent1_arg1_vec, sent1_arg2_vec = states[arg1_sent1[0]:arg1_sent1[1]].mean(dim=0), states[arg2_sent1[0]:arg2_sent1[1]].mean(dim=0)\n",
    "        sent2_arg1_vec, sent2_arg2_vec = states[arg1_sent2[0]:arg1_sent2[1]].mean(dim=0), states[arg2_sent2[0]:arg2_sent2[1]].mean(dim=0)\n",
    "\n",
    "        \n",
    "        dists_arg1 = ((self.linear_arg1_1(states)-self.linear_arg1_2(sent1_arg1_vec))**2).sum(dim = 1).detach().cpu().numpy()\n",
    "        dists_arg2 = ((self.linear_arg2_1(states)-self.linear_arg2_2(sent1_arg2_vec)**2)).sum(dim = 1).detach().cpu().numpy()       \n",
    "        #states_projected = self.linear_arg1_1(states)\n",
    "        #arg1_sent1_projected = self.linear_arg1_2(sent1_arg1_vec)\n",
    "        #arg2_sent1_projected = self.linear_arg2_2(sent1_arg2_vec)\n",
    "        #dists_arg1 = cosine_distance(arg1_sent1_projected, states_projected)\n",
    "        #dists_arg2 = cosine_distance(arg2_sent1_projected, states_projected)\n",
    "        \n",
    "        \n",
    "        mask_gold_arg1 = np.zeros_like(dists_arg1)\n",
    "        mask_gold_arg2 = np.zeros_like(dists_arg2)\n",
    "        mask_gold_arg1[arg1_sent1[0]:arg1_sent1[1]] = 1e6\n",
    "        mask_gold_arg1[arg1_sent2[0]:arg1_sent2[1]] = 1e6\n",
    "        mask_gold_arg2[arg2_sent1[0]:arg2_sent1[1]] = 1e6\n",
    "        mask_gold_arg2[arg2_sent2[0]:arg2_sent2[1]] = 1e6\n",
    "        mask_gold_arg2[:l_tokens] = 1e6\n",
    "        mask_gold_arg1[:l_tokens] = 1e6\n",
    "\n",
    "        \n",
    "        idx_arg1 = np.argsort(dists_arg1+mask_gold_arg1)\n",
    "        idx_arg2 = np.argsort(dists_arg2+mask_gold_arg2)\n",
    "        k = 0 if np.random.random() < 0.5 else random.choice(range(10))\n",
    "        dist_arg1_argmax = (self.linear_arg1_2(sent1_arg1_vec) - self.linear_arg1_1(states[idx_arg1[k]])).norm()**2\n",
    "        dist_arg2_argmax = (self.linear_arg2_2(sent1_arg2_vec) - self.linear_arg2_1(states[idx_arg2[k]])).norm()**2\n",
    "        dist_arg1_gold = (self.linear_arg1_2(sent1_arg1_vec) - self.linear_arg1_1(sent2_arg1_vec)).norm()**2\n",
    "        dist_arg2_gold = (self.linear_arg2_2(sent1_arg2_vec) - self.linear_arg2_1(sent2_arg2_vec)).norm()**2\n",
    "        \n",
    "        #print(\"arg1-argmax, arg1-gold: {}, {}\".format(dist_arg1_argmax, dist_arg1_gold))\n",
    "        #print(\"arg2-argmax, arg2-gold: {}, {}\".format(dist_arg2_argmax, dist_arg2_gold))\n",
    "        \n",
    "        # softmax triplet\n",
    "        \n",
    "        z = torch.max(dist_arg1_argmax, dist_arg1_gold)\n",
    "        temp = 2\n",
    "        pos_arg1 = torch.exp((dist_arg1_gold - z)/temp)\n",
    "        neg_arg1 = torch.exp((dist_arg1_argmax - z)/temp)\n",
    "        loss_arg1 = (pos_arg1 / (pos_arg1 + neg_arg1))**2\n",
    "\n",
    "        z = torch.max(dist_arg2_argmax, dist_arg2_gold)\n",
    "        pos_arg2 = torch.exp((dist_arg2_gold - z)/temp)\n",
    "        neg_arg2 = torch.exp((dist_arg2_argmax - z)/temp)\n",
    "        loss_arg2 = (pos_arg2 / (pos_arg2 + neg_arg2))**2\n",
    "\n",
    "        alpha = 0.01\n",
    "        loss_arg1 = torch.max(torch.zeros(1).to(self.device), dist_arg1_gold - dist_arg1_argmax + alpha)\n",
    "        loss_arg2 = torch.max(torch.zeros(1).to(self.device), dist_arg2_gold - dist_arg2_argmax + alpha)\n",
    "        \n",
    "        global count\n",
    "        global total\n",
    "        if pos_arg1 < neg_arg1 and pos_arg2 < neg_arg2:\n",
    "            count += 1\n",
    "        total += 1                                                      \n",
    "        # check            \n",
    "        loss = loss_arg1 + loss_arg2\n",
    "        return loss, np.argsort(dists_arg1+mask_gold_arg1)\n",
    "    \n",
    "    def forward_with_loss_calculation(self, x, sent1_idx, sent2_idx, orig_to_tok_map, tok_to_orig_map, l, l_tokens):\n",
    "        \n",
    "        outputs = self.model(x)\n",
    "        states = outputs[0][0] #[seq_len, 768]\n",
    "        #states = states/torch.norm(states, dim = 1, keepdim = True)\n",
    "        \n",
    "        sent1_idx_arg1 = sent1_idx[0].detach().cpu().numpy().item()\n",
    "        sent1_idx_arg2 = sent1_idx[1].detach().cpu().numpy().item()\n",
    "        gold_arg1_sent1 = orig_to_tok_map[sent1_idx_arg1]\n",
    "        gold_arg2_sent1 = orig_to_tok_map[sent1_idx_arg2]\n",
    "        \n",
    "        sent1_arg1_vec, sent1_arg2_vec = states[gold_arg1_sent1], states[gold_arg2_sent1]\n",
    "        \n",
    "        states_sent2 = states[orig_to_tok_map[l.detach().cpu().numpy().item()]:]  \n",
    "        \n",
    "        sims_arg1 = sent1_arg1_vec @ states.T\n",
    "        sims_arg2 = sent1_arg2_vec @ states.T\n",
    "        \n",
    "        sent2_idx_arg1 = sent2_idx[0].detach().cpu().numpy().item()\n",
    "        sent2_idx_arg2 = sent2_idx[1].detach().cpu().numpy().item()\n",
    "        gold_arg1_sent2, gold_arg2_sent2 = orig_to_tok_map[sent2_idx_arg1], orig_to_tok_map[sent2_idx_arg2]\n",
    "\n",
    "        dists_arg1 = ((self.linear_arg1(states-sent1_arg1_vec))**2).sum(dim = 1).detach().cpu().numpy()\n",
    "        dists_arg2 = ((self.linear_arg2(states-sent1_arg2_vec)**2)).sum(dim = 1).detach().cpu().numpy()\n",
    "               \n",
    "        mask_gold_arg1 = np.zeros_like(dists_arg1)\n",
    "        mask_gold_arg2 = np.zeros_like(dists_arg2)\n",
    "        mask_gold_arg1[gold_arg1_sent2] = 1e6\n",
    "        mask_gold_arg2[gold_arg2_sent2] = 1e6\n",
    "        mask_gold_arg2[:l_tokens] = 1e6\n",
    "        mask_gold_arg1[:l_tokens] = 1e6\n",
    "        \n",
    "        if np.random.random() < 0.0*1e-1:\n",
    "            print(dists_arg1+mask_gold_arg2)\n",
    "            print(\"=========================\")\n",
    "        \n",
    "        idx_arg1 = np.argsort(dists_arg1+mask_gold_arg1)\n",
    "        idx_arg2 = np.argsort(dists_arg2+mask_gold_arg2)\n",
    "        \n",
    "        k = 0 #random.choice(range(0,7))\n",
    "        #idx_arg1 = [orig_to_tok_map[i] for i in orig_to_tok_map.keys() if i != sent2_idx_arg1 and i > l]\n",
    "        #idx_arg2 = [orig_to_tok_map[i] for i in orig_to_tok_map.keys() if i != sent2_idx_arg2 and i > l]\n",
    "        #random.shuffle(idx_arg1)\n",
    "        #random.shuffle(idx_arg2)\n",
    "        \n",
    "        dist_arg1_argmax = (self.linear_arg1(sent1_arg1_vec - states[idx_arg1[k]])).norm()#**2\n",
    "        dist_arg2_argmax = (self.linear_arg2(sent1_arg2_vec - states[idx_arg2[k]])).norm()#**2\n",
    "        dist_arg1_gold = (self.linear_arg1(sent1_arg1_vec - states[gold_arg1_sent2])).norm()#**2\n",
    "        dist_arg2_gold = (self.linear_arg2(sent1_arg2_vec - states[gold_arg2_sent2])).norm()#**2\n",
    "        \n",
    "        \n",
    "        #alpha = 0.01\n",
    "        #loss_arg1 = torch.max(torch.zeros(1).to(self.device), -sim_arg1_gold + most_sim_arg1 + alpha)\n",
    "        #loss_arg2 = torch.max(torch.zeros(1).to(self.device), -sim_arg2_gold + most_sim_arg2 + alpha)\n",
    "        alpha = 0.05\n",
    "        loss_arg1 = torch.max(torch.zeros(1).to(self.device), dist_arg1_gold - dist_arg1_argmax + alpha)\n",
    "        loss_arg2 = torch.max(torch.zeros(1).to(self.device), dist_arg2_gold - dist_arg2_argmax + alpha)\n",
    "\n",
    "        # softmax triplet\n",
    "        \n",
    "        z = torch.max(dist_arg1_argmax, dist_arg1_gold)\n",
    "        temp = 1\n",
    "        pos_arg1 = torch.exp((dist_arg1_gold - z)/temp)\n",
    "        neg_arg1 = torch.exp((dist_arg1_argmax - z)/temp)\n",
    "        loss_arg1 = (pos_arg1 / (pos_arg1 + neg_arg1))**2\n",
    "\n",
    "        z = torch.max(dist_arg2_argmax, dist_arg2_gold)\n",
    "        pos_arg2 = torch.exp((dist_arg2_gold - z)/temp)\n",
    "        neg_arg2 = torch.exp((dist_arg2_argmax - z)/temp)\n",
    "        loss_arg2 = (pos_arg2 / (pos_arg2 + neg_arg2))**2\n",
    "                                                               \n",
    "        # check\n",
    "        global count\n",
    "        \n",
    "        if tok_to_orig_map[idx_arg1[0]] == sent2_idx_arg1:\n",
    "            print(\"yay\",)\n",
    "            count += 1\n",
    "            loss_arg1 = torch.zeros(1).to(self.device).squeeze()\n",
    "            \n",
    "        if tok_to_orig_map[idx_arg2[0]] == sent2_idx_arg2:\n",
    "            print(\"yay2\")\n",
    "            count += 1\n",
    "            loss_arg2 = torch.zeros(1).to(self.device).squeeze()                                                      \n",
    "            \n",
    "        loss = loss_arg1 + loss_arg2\n",
    "        return loss, np.argsort(dists_arg1+mask_gold_arg1)\n",
    "    \n",
    "    def training_step(self, batch, batch_nb):\n",
    "        \n",
    "        sents_concat, sent1_idx, sent2_idx, l = batch\n",
    "        sent1_idx = [x.detach().cpu().numpy().item() for x in sent1_idx]\n",
    "        sent2_idx = [x.detach().cpu().numpy().item() for x in sent2_idx]\n",
    "        \n",
    "        #print(sents_concat)\n",
    "        #print(\"---------------------------------------------\")\n",
    "        bert_tokens, orig_to_tok_map, tok_to_orig_map, tokens_tensor = self.tokenize(sents_concat[0].split(\" \"))        \n",
    "        l_tokens = len(bert_tokens[:orig_to_tok_map[l.detach().cpu().numpy().item()-1]]) \n",
    "        sent1_range_arg1 = get_entity_range(sent1_idx[0], orig_to_tok_map)\n",
    "        sent1_range_arg2 = get_entity_range(sent1_idx[1], orig_to_tok_map)\n",
    "        sent2_range_arg1 = get_entity_range(sent2_idx[0], orig_to_tok_map)\n",
    "        sent2_range_arg2 = get_entity_range(sent2_idx[1], orig_to_tok_map)\n",
    "        range_sent1 = (sent1_range_arg1,sent1_range_arg2)\n",
    "        range_sent2 = (sent2_range_arg1,sent2_range_arg2)\n",
    "        \n",
    "        loss, argsort = self.forward_with_loss_calculation2(bert_tokens, tokens_tensor, range_sent1, range_sent2, orig_to_tok_map, l, l_tokens)\n",
    "        #loss, argsort = self.forward_with_loss_calculation(tokens_tensor, sent1_idx, sent2_idx, orig_to_tok_map,tok_to_orig_map, l, l_tokens)\n",
    "        #print(sents_concat)\n",
    "        #print(argsort[:5])\n",
    "        #print(\"preds\", bert_tokens[argsort[0]], bert_tokens[argsort[1]], bert_tokens[argsort[2]])\n",
    "        #print(\"gold\", bert_tokens[orig_to_tok_map[sent2_idx[0]]])\n",
    "        if np.random.random() < 1e-3:\n",
    "            print(\"count\", count/total)\n",
    "        #print(\"==================================\")\n",
    "        return {'loss': loss}\n",
    "    \n",
    "    def validation_step(self, batch, batch_nb):\n",
    "\n",
    "        sents_concat, sent1_idx, sent2_idx, l = batch\n",
    "        #print(sent1_idx, type(sent1_idx))\n",
    "        \n",
    "        sent1_idx = [x.detach().cpu().numpy().item() for x in sent1_idx]\n",
    "        sent2_idx = [x.detach().cpu().numpy().item() for x in sent2_idx]\n",
    "        \n",
    "        bert_tokens, orig_to_tok_map, tok_to_orig_map, tokens_tensor = self.tokenize(sents_concat[0].split(\" \"))\n",
    "        l_tokens = len(bert_tokens[:orig_to_tok_map[l.detach().cpu().numpy().item()-1]]) \n",
    "        sent1_range_arg1 = get_entity_range(sent1_idx[0], orig_to_tok_map)\n",
    "        sent1_range_arg2 = get_entity_range(sent1_idx[1], orig_to_tok_map)\n",
    "        sent2_range_arg1 = get_entity_range(sent2_idx[0], orig_to_tok_map)\n",
    "        sent2_range_arg2 = get_entity_range(sent2_idx[1], orig_to_tok_map)\n",
    "        range_sent1 = (sent1_range_arg1,sent1_range_arg2)\n",
    "        range_sent2 = (sent2_range_arg1,sent2_range_arg2)\n",
    "        loss, argsort = self.forward_with_loss_calculation2(bert_tokens, tokens_tensor, range_sent1, range_sent2, orig_to_tok_map, l, l_tokens)\n",
    "        #loss, argsort = self.forward_with_loss_calculation(tokens_tensor, sent1_idx, sent2_idx, orig_to_tok_map, tok_to_orig_map, l, l_tokens)\n",
    "\n",
    "        return {'val_loss': loss}\n",
    "    \n",
    "    def validation_end(self, outputs):\n",
    "        avg_loss = torch.stack([x['val_loss'] for x in outputs]).mean()\n",
    "        print(\"Loss is {}\".format(avg_loss))\n",
    "        return {'avg_val_loss': avg_loss}\n",
    "    \n",
    "    def configure_optimizers(self):\n",
    "        #return torch.optim.RMSprop(self.parameters())\n",
    "        #return torch.optim.ASGD(self.parameters(), lr=0.0015, weight_decay=1e-5)\n",
    "        return torch.optim.SGD(self.parameters(), lr=0.006, momentum=0.75)\n",
    "        #return torch.optim.Adam(self.parameters())\n",
    "    \n",
    "    @pl.data_loader\n",
    "    def train_dataloader(self):\n",
    "        return self.train_gen\n",
    "\n",
    "    @pl.data_loader\n",
    "    def val_dataloader(self):\n",
    "        # OPTIONAL\n",
    "        # can also return a list of val dataloaders\n",
    "        return self.dev_gen\n",
    "    \n",
    "\n",
    "def get_entity_range(index_orig, orig_to_tok_map):\n",
    "    \n",
    "    m = min(orig_to_tok_map.keys())\n",
    "    if orig_to_tok_map[index_orig] == 1: return (1,2)\n",
    "    if index_orig == 0: return (1, orig_to_tok_map[index_orig] + 1)\n",
    "    \n",
    "    before = index_orig - 1\n",
    "    tok_range = (orig_to_tok_map[before] + 1, orig_to_tok_map[index_orig] + 1)\n",
    "    return tok_range\n",
    "\n",
    "\n",
    "def get_tok_to_orig_map(orig_to_tok_map, num_words, num_tokens):\n",
    "    \n",
    "    ranges = [get_entity_range(i, orig_to_tok_map) for i in range(num_words)]\n",
    "    tok_to_orig_map = {}\n",
    "    for i in range(num_words):\n",
    "        min,max = ranges[i]\n",
    "        for tok in range(min,max):\n",
    "            tok_to_orig_map[tok] = i\n",
    "    \n",
    "    for tok in range(num_tokens):\n",
    "        if tok not in tok_to_orig_map:\n",
    "            tok_to_orig_map[tok] = num_words -1\n",
    "    \n",
    "    return tok_to_orig_map\n",
    "        \n",
    "\n",
    "def get_prediction(sent1, sent2, model):\n",
    "    \n",
    "    l = len(sent1.split(\" \")) + 1 \n",
    "    sent2 = sent2.replace(\"ARG1:\", \"\").replace(\"ARG2:\", \"\")\n",
    "    \n",
    "    sents_concat = sent1 + \" ***** \" + sent2\n",
    "    sent1_arg1 = [i for i,w in enumerate(sent1.split(\" \")) if \"ARG1:\" in w][0]\n",
    "    sent1_arg2 = [i for i,w in enumerate(sent1.split(\" \")) if \"ARG2:\" in w][0]\n",
    "    words = sents_concat.split(\" \")\n",
    "    \n",
    "    bert_tokens, orig_to_tok_map, tok_to_orig_map, tokens_tensor = model.tokenize(sents_concat.split(\" \"))\n",
    "    range_arg1 = get_entity_range(sent1_arg1, orig_to_tok_map)\n",
    "    range_arg2 = get_entity_range(sent1_arg2, orig_to_tok_map)\n",
    "    \n",
    "    l_tokens = len(bert_tokens[:orig_to_tok_map[l-1]])    \n",
    "    outputs = model.model(tokens_tensor)\n",
    "    states = outputs[0][0] #[seq_len, 768]\n",
    "\n",
    "    states = states/torch.norm(states, dim = 1, keepdim = True)\n",
    "    \n",
    "    sent1_arg1_vec, sent1_arg2_vec = states[range_arg1[0]:range_arg1[1]].mean(dim=0), states[range_arg2[0]:range_arg2[1]].mean(dim=0)\n",
    "    \n",
    "    print(\"GOLD ARG1, ARG2:\", bert_tokens[orig_to_tok_map[sent1_arg1]], bert_tokens[orig_to_tok_map[sent1_arg2]])\n",
    "    sims_arg1 = (model.linear_arg1_1(states)-model.linear_arg1_2(sent1_arg1_vec)).norm(dim=1)\n",
    "    sims_arg2 = (model.linear_arg2_1(states)-model.linear_arg2_2(sent1_arg2_vec)).norm(dim=1)\n",
    "\n",
    "    mask_gold_arg1 = torch.zeros_like(sims_arg1).to(model.device)\n",
    "    mask_gold_arg2 = torch.zeros_like(sims_arg2).to(model.device)\n",
    "    #mask_gold_arg1[range_arg1[0]:range_arg1[1]] = 1e6\n",
    "    #mask_gold_arg2[range_arg2[0]:range_arg2[1]] = 1e6\n",
    "    mask_gold_arg2[:l_tokens] = 1e6\n",
    "    mask_gold_arg1[:l_tokens] = 1e6\n",
    "        \n",
    "    idx_arg1 = torch.argsort(sims_arg1+mask_gold_arg1).detach().cpu().numpy()\n",
    "    idx_arg2 = torch.argsort(sims_arg2+mask_gold_arg2).detach().cpu().numpy()\n",
    "    \n",
    "    print(\"all arg1 preds\", [words[tok_to_orig_map[idx_arg1[i]]] for i in range(len(idx_arg1))][:7])\n",
    "    print(\"---------------------------------------------------\")\n",
    "    print(\"all arg2 preds\", [words[tok_to_orig_map[idx_arg2[i]]] for i in range(len(idx_arg2))][:7])\n",
    "    print(\"---------------------------------------------------\")\n",
    "    \n",
    "    #print(bert_tokens[idx_arg1[-4]], bert_tokens[idx_arg2[-4]])\n",
    "    \n",
    "    return\n",
    "    \n",
    "    most_sim_arg1, most_sim_arg2 = sims_arg1[idx_arg1[-2]], sims_arg2[idx_arg2[-2]]\n",
    "    ind_arg1, ind_arg2 = idx_arg1[-2].detach().cpu().numpy().item(), idx_arg2[-2].detach().cpu().numpy().item()\n",
    "    ind_arg1, ind_arg2 = ind_arg1 + l_tokens, ind_arg2 + l_tokens\n",
    "    \n",
    "    return sents_concat, tok_to_orig_map[ind_arg1], tok_to_orig_map[ind_arg2], bert_tokens[ind_arg1], bert_tokens[ind_arg2]"
   ]
  },
  {
   "cell_type": "code",
   "execution_count": 16,
   "metadata": {},
   "outputs": [],
   "source": [
    "class Dataset(torch.utils.data.Dataset):\n",
    "    \"\"\"Simple torch dataset class\"\"\"\n",
    "\n",
    "    def __init__(self, data: List[Dict], device = \"cpu\"):\n",
    "\n",
    "        self.data = data\n",
    "        self.device = device\n",
    "\n",
    "    def __len__(self):\n",
    "        return len(self.data)\n",
    "\n",
    "    def __getitem__(self, index):\n",
    "        with torch.no_grad():\n",
    "            \n",
    "            d = self.data[index]\n",
    "            sent1, sent2 = d[\"first\"], d[\"second\"]\n",
    "            sent1_arg1, sent1_arg2 = d[\"first_arg1\"][0], d[\"first_arg2\"][0]\n",
    "            sent2_arg1, sent2_arg2 = d[\"second_arg1\"][0], d[\"second_arg2\"][0]\n",
    "            \n",
    "            l = len(sent1.split(\" \")) + 1 \n",
    "            sent2_arg1, sent2_arg2 = sent2_arg1 + l, sent2_arg2 + l\n",
    "\n",
    "            sent2 = sent2.replace(\"ARG1:\", \"\").replace(\"ARG2:\", \"\")\n",
    "            sents_concat = sent1 + \" ***** \" + sent2 #sents_concat.split(\" \")[l] is the first token in the 2nd sent\n",
    "            \n",
    "            return sents_concat, (sent1_arg1, sent1_arg2), (sent2_arg1, sent2_arg2), l"
   ]
  },
  {
   "cell_type": "code",
   "execution_count": 17,
   "metadata": {},
   "outputs": [],
   "source": [
    "l = int(0.8 * len(data))\n",
    "train_dataset, dev_dataset = Dataset(data[:l], \"cpu\"), Dataset(data[l:], \"cpu\")"
   ]
  },
  {
   "cell_type": "code",
   "execution_count": 18,
   "metadata": {},
   "outputs": [],
   "source": [
    "sents_concat, (sent1_arg1, sent1_arg2), (sent2_arg1, sent2_arg2), l = train_dataset[5]"
   ]
  },
  {
   "cell_type": "code",
   "execution_count": null,
   "metadata": {},
   "outputs": [],
   "source": []
  },
  {
   "cell_type": "code",
   "execution_count": 19,
   "metadata": {},
   "outputs": [],
   "source": [
    "#del model"
   ]
  },
  {
   "cell_type": "code",
   "execution_count": 20,
   "metadata": {},
   "outputs": [],
   "source": [
    "model = BertModel(train_dataset, dev_dataset, 1, \"cuda\", \"train\")"
   ]
  },
  {
   "cell_type": "code",
   "execution_count": null,
   "metadata": {},
   "outputs": [],
   "source": [
    "sent = \"it is very important.\"\n",
    "bert_tokens, orig_to_tok_map, tok_to_orig_map, tokens_tensor = model.tokenize(sent.split(\" \"))\n",
    "indexed_tokens = model.tokenizer.convert_tokens_to_ids(bert_tokens)\n",
    "tokens_tensor = torch.tensor([indexed_tokens])"
   ]
  },
  {
   "cell_type": "code",
   "execution_count": null,
   "metadata": {},
   "outputs": [],
   "source": [
    "bert_tokens"
   ]
  },
  {
   "cell_type": "code",
   "execution_count": null,
   "metadata": {
    "scrolled": false
   },
   "outputs": [],
   "source": [
    "orig_to_tok_map"
   ]
  },
  {
   "cell_type": "code",
   "execution_count": null,
   "metadata": {},
   "outputs": [],
   "source": [
    "tok_to_orig_map"
   ]
  },
  {
   "cell_type": "code",
   "execution_count": 23,
   "metadata": {},
   "outputs": [
    {
     "name": "stderr",
     "output_type": "stream",
     "text": [
      "2020-10-30 18:42:48.310 INFO    lightning: GPU available: True, used: True\n",
      "2020-10-30 18:42:48.311 INFO    lightning: CUDA_VISIBLE_DEVICES: [0]\n",
      "2020-10-30 18:42:48.332 INFO    lightning: \n",
      "    | Name                                              | Type              | Params\n",
      "------------------------------------------------------------------------------------\n",
      "0   | model                                             | BertModel         | 109 M \n",
      "1   | model.embeddings                                  | BertEmbeddings    | 24 M  \n",
      "2   | model.embeddings.word_embeddings                  | Embedding         | 23 M  \n",
      "3   | model.embeddings.position_embeddings              | Embedding         | 393 K \n",
      "4   | model.embeddings.token_type_embeddings            | Embedding         | 1 K   \n",
      "5   | model.embeddings.LayerNorm                        | LayerNorm         | 1 K   \n",
      "6   | model.embeddings.dropout                          | Dropout           | 0     \n",
      "7   | model.encoder                                     | BertEncoder       | 85 M  \n",
      "8   | model.encoder.layer                               | ModuleList        | 85 M  \n",
      "9   | model.encoder.layer.0                             | BertLayer         | 7 M   \n",
      "10  | model.encoder.layer.0.attention                   | BertAttention     | 2 M   \n",
      "11  | model.encoder.layer.0.attention.self              | BertSelfAttention | 1 M   \n",
      "12  | model.encoder.layer.0.attention.self.query        | Linear            | 590 K \n",
      "13  | model.encoder.layer.0.attention.self.key          | Linear            | 590 K \n",
      "14  | model.encoder.layer.0.attention.self.value        | Linear            | 590 K \n",
      "15  | model.encoder.layer.0.attention.self.dropout      | Dropout           | 0     \n",
      "16  | model.encoder.layer.0.attention.output            | BertSelfOutput    | 592 K \n",
      "17  | model.encoder.layer.0.attention.output.dense      | Linear            | 590 K \n",
      "18  | model.encoder.layer.0.attention.output.LayerNorm  | LayerNorm         | 1 K   \n",
      "19  | model.encoder.layer.0.attention.output.dropout    | Dropout           | 0     \n",
      "20  | model.encoder.layer.0.intermediate                | BertIntermediate  | 2 M   \n",
      "21  | model.encoder.layer.0.intermediate.dense          | Linear            | 2 M   \n",
      "22  | model.encoder.layer.0.output                      | BertOutput        | 2 M   \n",
      "23  | model.encoder.layer.0.output.dense                | Linear            | 2 M   \n",
      "24  | model.encoder.layer.0.output.LayerNorm            | LayerNorm         | 1 K   \n",
      "25  | model.encoder.layer.0.output.dropout              | Dropout           | 0     \n",
      "26  | model.encoder.layer.1                             | BertLayer         | 7 M   \n",
      "27  | model.encoder.layer.1.attention                   | BertAttention     | 2 M   \n",
      "28  | model.encoder.layer.1.attention.self              | BertSelfAttention | 1 M   \n",
      "29  | model.encoder.layer.1.attention.self.query        | Linear            | 590 K \n",
      "30  | model.encoder.layer.1.attention.self.key          | Linear            | 590 K \n",
      "31  | model.encoder.layer.1.attention.self.value        | Linear            | 590 K \n",
      "32  | model.encoder.layer.1.attention.self.dropout      | Dropout           | 0     \n",
      "33  | model.encoder.layer.1.attention.output            | BertSelfOutput    | 592 K \n",
      "34  | model.encoder.layer.1.attention.output.dense      | Linear            | 590 K \n",
      "35  | model.encoder.layer.1.attention.output.LayerNorm  | LayerNorm         | 1 K   \n",
      "36  | model.encoder.layer.1.attention.output.dropout    | Dropout           | 0     \n",
      "37  | model.encoder.layer.1.intermediate                | BertIntermediate  | 2 M   \n",
      "38  | model.encoder.layer.1.intermediate.dense          | Linear            | 2 M   \n",
      "39  | model.encoder.layer.1.output                      | BertOutput        | 2 M   \n",
      "40  | model.encoder.layer.1.output.dense                | Linear            | 2 M   \n",
      "41  | model.encoder.layer.1.output.LayerNorm            | LayerNorm         | 1 K   \n",
      "42  | model.encoder.layer.1.output.dropout              | Dropout           | 0     \n",
      "43  | model.encoder.layer.2                             | BertLayer         | 7 M   \n",
      "44  | model.encoder.layer.2.attention                   | BertAttention     | 2 M   \n",
      "45  | model.encoder.layer.2.attention.self              | BertSelfAttention | 1 M   \n",
      "46  | model.encoder.layer.2.attention.self.query        | Linear            | 590 K \n",
      "47  | model.encoder.layer.2.attention.self.key          | Linear            | 590 K \n",
      "48  | model.encoder.layer.2.attention.self.value        | Linear            | 590 K \n",
      "49  | model.encoder.layer.2.attention.self.dropout      | Dropout           | 0     \n",
      "50  | model.encoder.layer.2.attention.output            | BertSelfOutput    | 592 K \n",
      "51  | model.encoder.layer.2.attention.output.dense      | Linear            | 590 K \n",
      "52  | model.encoder.layer.2.attention.output.LayerNorm  | LayerNorm         | 1 K   \n",
      "53  | model.encoder.layer.2.attention.output.dropout    | Dropout           | 0     \n",
      "54  | model.encoder.layer.2.intermediate                | BertIntermediate  | 2 M   \n",
      "55  | model.encoder.layer.2.intermediate.dense          | Linear            | 2 M   \n",
      "56  | model.encoder.layer.2.output                      | BertOutput        | 2 M   \n",
      "57  | model.encoder.layer.2.output.dense                | Linear            | 2 M   \n",
      "58  | model.encoder.layer.2.output.LayerNorm            | LayerNorm         | 1 K   \n",
      "59  | model.encoder.layer.2.output.dropout              | Dropout           | 0     \n",
      "60  | model.encoder.layer.3                             | BertLayer         | 7 M   \n",
      "61  | model.encoder.layer.3.attention                   | BertAttention     | 2 M   \n",
      "62  | model.encoder.layer.3.attention.self              | BertSelfAttention | 1 M   \n",
      "63  | model.encoder.layer.3.attention.self.query        | Linear            | 590 K \n",
      "64  | model.encoder.layer.3.attention.self.key          | Linear            | 590 K \n",
      "65  | model.encoder.layer.3.attention.self.value        | Linear            | 590 K \n",
      "66  | model.encoder.layer.3.attention.self.dropout      | Dropout           | 0     \n",
      "67  | model.encoder.layer.3.attention.output            | BertSelfOutput    | 592 K \n",
      "68  | model.encoder.layer.3.attention.output.dense      | Linear            | 590 K \n",
      "69  | model.encoder.layer.3.attention.output.LayerNorm  | LayerNorm         | 1 K   \n",
      "70  | model.encoder.layer.3.attention.output.dropout    | Dropout           | 0     \n",
      "71  | model.encoder.layer.3.intermediate                | BertIntermediate  | 2 M   \n",
      "72  | model.encoder.layer.3.intermediate.dense          | Linear            | 2 M   \n",
      "73  | model.encoder.layer.3.output                      | BertOutput        | 2 M   \n",
      "74  | model.encoder.layer.3.output.dense                | Linear            | 2 M   \n",
      "75  | model.encoder.layer.3.output.LayerNorm            | LayerNorm         | 1 K   \n",
      "76  | model.encoder.layer.3.output.dropout              | Dropout           | 0     \n",
      "77  | model.encoder.layer.4                             | BertLayer         | 7 M   \n",
      "78  | model.encoder.layer.4.attention                   | BertAttention     | 2 M   \n",
      "79  | model.encoder.layer.4.attention.self              | BertSelfAttention | 1 M   \n",
      "80  | model.encoder.layer.4.attention.self.query        | Linear            | 590 K \n",
      "81  | model.encoder.layer.4.attention.self.key          | Linear            | 590 K \n",
      "82  | model.encoder.layer.4.attention.self.value        | Linear            | 590 K \n",
      "83  | model.encoder.layer.4.attention.self.dropout      | Dropout           | 0     \n",
      "84  | model.encoder.layer.4.attention.output            | BertSelfOutput    | 592 K \n",
      "85  | model.encoder.layer.4.attention.output.dense      | Linear            | 590 K \n",
      "86  | model.encoder.layer.4.attention.output.LayerNorm  | LayerNorm         | 1 K   \n",
      "87  | model.encoder.layer.4.attention.output.dropout    | Dropout           | 0     \n",
      "88  | model.encoder.layer.4.intermediate                | BertIntermediate  | 2 M   \n",
      "89  | model.encoder.layer.4.intermediate.dense          | Linear            | 2 M   \n",
      "90  | model.encoder.layer.4.output                      | BertOutput        | 2 M   \n",
      "91  | model.encoder.layer.4.output.dense                | Linear            | 2 M   \n",
      "92  | model.encoder.layer.4.output.LayerNorm            | LayerNorm         | 1 K   \n",
      "93  | model.encoder.layer.4.output.dropout              | Dropout           | 0     \n",
      "94  | model.encoder.layer.5                             | BertLayer         | 7 M   \n",
      "95  | model.encoder.layer.5.attention                   | BertAttention     | 2 M   \n",
      "96  | model.encoder.layer.5.attention.self              | BertSelfAttention | 1 M   \n",
      "97  | model.encoder.layer.5.attention.self.query        | Linear            | 590 K \n",
      "98  | model.encoder.layer.5.attention.self.key          | Linear            | 590 K \n",
      "99  | model.encoder.layer.5.attention.self.value        | Linear            | 590 K \n",
      "100 | model.encoder.layer.5.attention.self.dropout      | Dropout           | 0     \n",
      "101 | model.encoder.layer.5.attention.output            | BertSelfOutput    | 592 K \n",
      "102 | model.encoder.layer.5.attention.output.dense      | Linear            | 590 K \n",
      "103 | model.encoder.layer.5.attention.output.LayerNorm  | LayerNorm         | 1 K   \n",
      "104 | model.encoder.layer.5.attention.output.dropout    | Dropout           | 0     \n",
      "105 | model.encoder.layer.5.intermediate                | BertIntermediate  | 2 M   \n",
      "106 | model.encoder.layer.5.intermediate.dense          | Linear            | 2 M   \n",
      "107 | model.encoder.layer.5.output                      | BertOutput        | 2 M   \n",
      "108 | model.encoder.layer.5.output.dense                | Linear            | 2 M   \n",
      "109 | model.encoder.layer.5.output.LayerNorm            | LayerNorm         | 1 K   \n",
      "110 | model.encoder.layer.5.output.dropout              | Dropout           | 0     \n",
      "111 | model.encoder.layer.6                             | BertLayer         | 7 M   \n",
      "112 | model.encoder.layer.6.attention                   | BertAttention     | 2 M   \n",
      "113 | model.encoder.layer.6.attention.self              | BertSelfAttention | 1 M   \n",
      "114 | model.encoder.layer.6.attention.self.query        | Linear            | 590 K \n",
      "115 | model.encoder.layer.6.attention.self.key          | Linear            | 590 K \n",
      "116 | model.encoder.layer.6.attention.self.value        | Linear            | 590 K \n",
      "117 | model.encoder.layer.6.attention.self.dropout      | Dropout           | 0     \n",
      "118 | model.encoder.layer.6.attention.output            | BertSelfOutput    | 592 K \n",
      "119 | model.encoder.layer.6.attention.output.dense      | Linear            | 590 K \n",
      "120 | model.encoder.layer.6.attention.output.LayerNorm  | LayerNorm         | 1 K   \n",
      "121 | model.encoder.layer.6.attention.output.dropout    | Dropout           | 0     \n",
      "122 | model.encoder.layer.6.intermediate                | BertIntermediate  | 2 M   \n",
      "123 | model.encoder.layer.6.intermediate.dense          | Linear            | 2 M   \n",
      "124 | model.encoder.layer.6.output                      | BertOutput        | 2 M   \n",
      "125 | model.encoder.layer.6.output.dense                | Linear            | 2 M   \n",
      "126 | model.encoder.layer.6.output.LayerNorm            | LayerNorm         | 1 K   \n",
      "127 | model.encoder.layer.6.output.dropout              | Dropout           | 0     \n",
      "128 | model.encoder.layer.7                             | BertLayer         | 7 M   \n",
      "129 | model.encoder.layer.7.attention                   | BertAttention     | 2 M   \n",
      "130 | model.encoder.layer.7.attention.self              | BertSelfAttention | 1 M   \n",
      "131 | model.encoder.layer.7.attention.self.query        | Linear            | 590 K \n",
      "132 | model.encoder.layer.7.attention.self.key          | Linear            | 590 K \n",
      "133 | model.encoder.layer.7.attention.self.value        | Linear            | 590 K \n",
      "134 | model.encoder.layer.7.attention.self.dropout      | Dropout           | 0     \n",
      "135 | model.encoder.layer.7.attention.output            | BertSelfOutput    | 592 K \n",
      "136 | model.encoder.layer.7.attention.output.dense      | Linear            | 590 K \n",
      "137 | model.encoder.layer.7.attention.output.LayerNorm  | LayerNorm         | 1 K   \n",
      "138 | model.encoder.layer.7.attention.output.dropout    | Dropout           | 0     \n",
      "139 | model.encoder.layer.7.intermediate                | BertIntermediate  | 2 M   \n",
      "140 | model.encoder.layer.7.intermediate.dense          | Linear            | 2 M   \n",
      "141 | model.encoder.layer.7.output                      | BertOutput        | 2 M   \n",
      "142 | model.encoder.layer.7.output.dense                | Linear            | 2 M   \n",
      "143 | model.encoder.layer.7.output.LayerNorm            | LayerNorm         | 1 K   \n",
      "144 | model.encoder.layer.7.output.dropout              | Dropout           | 0     \n",
      "145 | model.encoder.layer.8                             | BertLayer         | 7 M   \n",
      "146 | model.encoder.layer.8.attention                   | BertAttention     | 2 M   \n",
      "147 | model.encoder.layer.8.attention.self              | BertSelfAttention | 1 M   \n",
      "148 | model.encoder.layer.8.attention.self.query        | Linear            | 590 K \n",
      "149 | model.encoder.layer.8.attention.self.key          | Linear            | 590 K \n",
      "150 | model.encoder.layer.8.attention.self.value        | Linear            | 590 K \n",
      "151 | model.encoder.layer.8.attention.self.dropout      | Dropout           | 0     \n",
      "152 | model.encoder.layer.8.attention.output            | BertSelfOutput    | 592 K \n",
      "153 | model.encoder.layer.8.attention.output.dense      | Linear            | 590 K \n",
      "154 | model.encoder.layer.8.attention.output.LayerNorm  | LayerNorm         | 1 K   \n",
      "155 | model.encoder.layer.8.attention.output.dropout    | Dropout           | 0     \n",
      "156 | model.encoder.layer.8.intermediate                | BertIntermediate  | 2 M   \n",
      "157 | model.encoder.layer.8.intermediate.dense          | Linear            | 2 M   \n",
      "158 | model.encoder.layer.8.output                      | BertOutput        | 2 M   \n",
      "159 | model.encoder.layer.8.output.dense                | Linear            | 2 M   \n",
      "160 | model.encoder.layer.8.output.LayerNorm            | LayerNorm         | 1 K   \n",
      "161 | model.encoder.layer.8.output.dropout              | Dropout           | 0     \n",
      "162 | model.encoder.layer.9                             | BertLayer         | 7 M   \n",
      "163 | model.encoder.layer.9.attention                   | BertAttention     | 2 M   \n",
      "164 | model.encoder.layer.9.attention.self              | BertSelfAttention | 1 M   \n",
      "165 | model.encoder.layer.9.attention.self.query        | Linear            | 590 K \n",
      "166 | model.encoder.layer.9.attention.self.key          | Linear            | 590 K \n",
      "167 | model.encoder.layer.9.attention.self.value        | Linear            | 590 K \n",
      "168 | model.encoder.layer.9.attention.self.dropout      | Dropout           | 0     \n",
      "169 | model.encoder.layer.9.attention.output            | BertSelfOutput    | 592 K \n",
      "170 | model.encoder.layer.9.attention.output.dense      | Linear            | 590 K \n",
      "171 | model.encoder.layer.9.attention.output.LayerNorm  | LayerNorm         | 1 K   \n",
      "172 | model.encoder.layer.9.attention.output.dropout    | Dropout           | 0     \n",
      "173 | model.encoder.layer.9.intermediate                | BertIntermediate  | 2 M   \n",
      "174 | model.encoder.layer.9.intermediate.dense          | Linear            | 2 M   \n",
      "175 | model.encoder.layer.9.output                      | BertOutput        | 2 M   \n",
      "176 | model.encoder.layer.9.output.dense                | Linear            | 2 M   \n",
      "177 | model.encoder.layer.9.output.LayerNorm            | LayerNorm         | 1 K   \n",
      "178 | model.encoder.layer.9.output.dropout              | Dropout           | 0     \n",
      "179 | model.encoder.layer.10                            | BertLayer         | 7 M   \n",
      "180 | model.encoder.layer.10.attention                  | BertAttention     | 2 M   \n",
      "181 | model.encoder.layer.10.attention.self             | BertSelfAttention | 1 M   \n",
      "182 | model.encoder.layer.10.attention.self.query       | Linear            | 590 K \n",
      "183 | model.encoder.layer.10.attention.self.key         | Linear            | 590 K \n",
      "184 | model.encoder.layer.10.attention.self.value       | Linear            | 590 K \n",
      "185 | model.encoder.layer.10.attention.self.dropout     | Dropout           | 0     \n",
      "186 | model.encoder.layer.10.attention.output           | BertSelfOutput    | 592 K \n",
      "187 | model.encoder.layer.10.attention.output.dense     | Linear            | 590 K \n",
      "188 | model.encoder.layer.10.attention.output.LayerNorm | LayerNorm         | 1 K   \n",
      "189 | model.encoder.layer.10.attention.output.dropout   | Dropout           | 0     \n",
      "190 | model.encoder.layer.10.intermediate               | BertIntermediate  | 2 M   \n",
      "191 | model.encoder.layer.10.intermediate.dense         | Linear            | 2 M   \n",
      "192 | model.encoder.layer.10.output                     | BertOutput        | 2 M   \n",
      "193 | model.encoder.layer.10.output.dense               | Linear            | 2 M   \n",
      "194 | model.encoder.layer.10.output.LayerNorm           | LayerNorm         | 1 K   \n",
      "195 | model.encoder.layer.10.output.dropout             | Dropout           | 0     \n",
      "196 | model.encoder.layer.11                            | BertLayer         | 7 M   \n",
      "197 | model.encoder.layer.11.attention                  | BertAttention     | 2 M   \n",
      "198 | model.encoder.layer.11.attention.self             | BertSelfAttention | 1 M   \n",
      "199 | model.encoder.layer.11.attention.self.query       | Linear            | 590 K \n",
      "200 | model.encoder.layer.11.attention.self.key         | Linear            | 590 K \n",
      "201 | model.encoder.layer.11.attention.self.value       | Linear            | 590 K \n",
      "202 | model.encoder.layer.11.attention.self.dropout     | Dropout           | 0     \n",
      "203 | model.encoder.layer.11.attention.output           | BertSelfOutput    | 592 K \n",
      "204 | model.encoder.layer.11.attention.output.dense     | Linear            | 590 K \n",
      "205 | model.encoder.layer.11.attention.output.LayerNorm | LayerNorm         | 1 K   \n",
      "206 | model.encoder.layer.11.attention.output.dropout   | Dropout           | 0     \n",
      "207 | model.encoder.layer.11.intermediate               | BertIntermediate  | 2 M   \n",
      "208 | model.encoder.layer.11.intermediate.dense         | Linear            | 2 M   \n",
      "209 | model.encoder.layer.11.output                     | BertOutput        | 2 M   \n",
      "210 | model.encoder.layer.11.output.dense               | Linear            | 2 M   \n",
      "211 | model.encoder.layer.11.output.LayerNorm           | LayerNorm         | 1 K   \n",
      "212 | model.encoder.layer.11.output.dropout             | Dropout           | 0     \n",
      "213 | model.pooler                                      | BertPooler        | 590 K \n",
      "214 | model.pooler.dense                                | Linear            | 590 K \n",
      "215 | model.pooler.activation                           | Tanh              | 0     \n",
      "216 | linear_arg1_1                                     | Linear            | 98 K  \n",
      "217 | linear_arg2_1                                     | Linear            | 98 K  \n",
      "218 | linear_arg1_2                                     | Linear            | 98 K  \n",
      "219 | linear_arg2_2                                     | Linear            | 98 K  \n"
     ]
    },
    {
     "data": {
      "application/vnd.jupyter.widget-view+json": {
       "model_id": "",
       "version_major": 2,
       "version_minor": 0
      },
      "text/plain": [
       "HBox(children=(FloatProgress(value=1.0, bar_style='info', description='Validation sanity check', layout=Layout…"
      ]
     },
     "metadata": {},
     "output_type": "display_data"
    },
    {
     "name": "stdout",
     "output_type": "stream",
     "text": [
      "Loss is 0.025263959541916847\n"
     ]
    },
    {
     "name": "stderr",
     "output_type": "stream",
     "text": [
      "/home/shauli/miniconda3/envs/py3/lib/python3.7/site-packages/pytorch_lightning/utilities/distributed.py:23: UserWarning: The dataloader, train dataloader, does not have many workers which may be a bottleneck. Consider increasing the value of the `num_workers` argument` in the `DataLoader` init to improve performance.\n",
      "  warnings.warn(*args, **kwargs)\n"
     ]
    },
    {
     "data": {
      "application/vnd.jupyter.widget-view+json": {
       "model_id": "09c8c4347b534e1692c6758b077ca94c",
       "version_major": 2,
       "version_minor": 0
      },
      "text/plain": [
       "HBox(children=(FloatProgress(value=1.0, bar_style='info', description='Training', layout=Layout(flex='2'), max…"
      ]
     },
     "metadata": {},
     "output_type": "display_data"
    },
    {
     "name": "stdout",
     "output_type": "stream",
     "text": [
      "count 0.3790322580645161\n",
      "count 0.4881720430107527\n",
      "count 0.5154320987654321\n",
      "count 0.6179898033503277\n",
      "count 0.6482017362546507\n",
      "count 0.6508972267536705\n",
      "count 0.6532990912682735\n"
     ]
    },
    {
     "data": {
      "application/vnd.jupyter.widget-view+json": {
       "model_id": "",
       "version_major": 2,
       "version_minor": 0
      },
      "text/plain": [
       "HBox(children=(FloatProgress(value=1.0, bar_style='info', description='Validating', layout=Layout(flex='2'), m…"
      ]
     },
     "metadata": {},
     "output_type": "display_data"
    },
    {
     "name": "stdout",
     "output_type": "stream",
     "text": [
      "Loss is 0.006092917174100876\n"
     ]
    },
    {
     "name": "stderr",
     "output_type": "stream",
     "text": [
      "/home/shauli/miniconda3/envs/py3/lib/python3.7/site-packages/pytorch_lightning/utilities/distributed.py:23: RuntimeWarning: Can save best model only with val_loss available, skipping.\n",
      "  warnings.warn(*args, **kwargs)\n"
     ]
    },
    {
     "name": "stdout",
     "output_type": "stream",
     "text": [
      "count 0.6875643666323378\n",
      "count 0.6943221045113677\n",
      "count 0.699597675458203\n",
      "count 0.7001439486214152\n"
     ]
    },
    {
     "data": {
      "application/vnd.jupyter.widget-view+json": {
       "model_id": "",
       "version_major": 2,
       "version_minor": 0
      },
      "text/plain": [
       "HBox(children=(FloatProgress(value=1.0, bar_style='info', description='Validating', layout=Layout(flex='2'), m…"
      ]
     },
     "metadata": {},
     "output_type": "display_data"
    },
    {
     "name": "stdout",
     "output_type": "stream",
     "text": [
      "Loss is 0.005008307751268148\n",
      "count 0.7286334056399132\n",
      "count 0.7355476842879102\n",
      "count 0.7441763727121464\n",
      "count 0.7481135262980065\n",
      "count 0.7532927273673798\n"
     ]
    },
    {
     "data": {
      "application/vnd.jupyter.widget-view+json": {
       "model_id": "",
       "version_major": 2,
       "version_minor": 0
      },
      "text/plain": [
       "HBox(children=(FloatProgress(value=1.0, bar_style='info', description='Validating', layout=Layout(flex='2'), m…"
      ]
     },
     "metadata": {},
     "output_type": "display_data"
    },
    {
     "name": "stdout",
     "output_type": "stream",
     "text": [
      "Loss is 0.0036522443406283855\n",
      "count 0.7609425993472836\n",
      "count 0.7616439660920088\n",
      "count 0.7644877780829442\n",
      "count 0.7644609189090243\n",
      "count 0.7648197326371697\n",
      "count 0.7660445461748393\n",
      "count 0.7669199044931626\n",
      "count 0.7677532511978097\n",
      "count 0.7685687637781923\n",
      "count 0.7695530141175485\n",
      "count 0.7741618133165433\n",
      "count 0.7762698869081848\n"
     ]
    },
    {
     "data": {
      "application/vnd.jupyter.widget-view+json": {
       "model_id": "",
       "version_major": 2,
       "version_minor": 0
      },
      "text/plain": [
       "HBox(children=(FloatProgress(value=1.0, bar_style='info', description='Validating', layout=Layout(flex='2'), m…"
      ]
     },
     "metadata": {},
     "output_type": "display_data"
    },
    {
     "name": "stdout",
     "output_type": "stream",
     "text": [
      "Loss is 0.004187989514321089\n",
      "count 0.7809103626385452\n",
      "count 0.7829135561292123\n",
      "count 0.7874507987960176\n",
      "count 0.7894057681140719\n",
      "count 0.7938483069153306\n",
      "count 0.7938789776008267\n",
      "count 0.7942011476895198\n"
     ]
    },
    {
     "data": {
      "application/vnd.jupyter.widget-view+json": {
       "model_id": "",
       "version_major": 2,
       "version_minor": 0
      },
      "text/plain": [
       "HBox(children=(FloatProgress(value=1.0, bar_style='info', description='Validating', layout=Layout(flex='2'), m…"
      ]
     },
     "metadata": {},
     "output_type": "display_data"
    },
    {
     "name": "stdout",
     "output_type": "stream",
     "text": [
      "Loss is 0.003531775204464793\n",
      "count 0.8012499654323719\n",
      "count 0.803525632373188\n",
      "count 0.8042159822597451\n",
      "count 0.8041939361560038\n",
      "count 0.8053786642808273\n",
      "count 0.8063871219005583\n"
     ]
    },
    {
     "data": {
      "application/vnd.jupyter.widget-view+json": {
       "model_id": "",
       "version_major": 2,
       "version_minor": 0
      },
      "text/plain": [
       "HBox(children=(FloatProgress(value=1.0, bar_style='info', description='Validating', layout=Layout(flex='2'), m…"
      ]
     },
     "metadata": {},
     "output_type": "display_data"
    },
    {
     "name": "stdout",
     "output_type": "stream",
     "text": [
      "Loss is 0.003522890154272318\n",
      "count 0.8156197099327447\n",
      "count 0.8169131196907726\n",
      "count 0.8193781728653289\n"
     ]
    },
    {
     "data": {
      "application/vnd.jupyter.widget-view+json": {
       "model_id": "",
       "version_major": 2,
       "version_minor": 0
      },
      "text/plain": [
       "HBox(children=(FloatProgress(value=1.0, bar_style='info', description='Validating', layout=Layout(flex='2'), m…"
      ]
     },
     "metadata": {},
     "output_type": "display_data"
    },
    {
     "name": "stdout",
     "output_type": "stream",
     "text": [
      "Loss is 0.0033171854447573423\n",
      "count 0.8268109254422997\n",
      "count 0.8275754987966772\n",
      "count 0.8281274131274131\n",
      "count 0.8293921811091031\n",
      "count 0.8301669870707528\n",
      "count 0.831245585994127\n"
     ]
    },
    {
     "data": {
      "application/vnd.jupyter.widget-view+json": {
       "model_id": "",
       "version_major": 2,
       "version_minor": 0
      },
      "text/plain": [
       "HBox(children=(FloatProgress(value=1.0, bar_style='info', description='Validating', layout=Layout(flex='2'), m…"
      ]
     },
     "metadata": {},
     "output_type": "display_data"
    },
    {
     "name": "stdout",
     "output_type": "stream",
     "text": [
      "Loss is 0.003530835034325719\n",
      "count 0.8326033273851368\n",
      "count 0.8357027547778992\n",
      "count 0.8364180027839356\n",
      "count 0.8365095974063845\n",
      "count 0.8393676780062636\n"
     ]
    },
    {
     "data": {
      "application/vnd.jupyter.widget-view+json": {
       "model_id": "",
       "version_major": 2,
       "version_minor": 0
      },
      "text/plain": [
       "HBox(children=(FloatProgress(value=1.0, bar_style='info', description='Validating', layout=Layout(flex='2'), m…"
      ]
     },
     "metadata": {},
     "output_type": "display_data"
    },
    {
     "name": "stdout",
     "output_type": "stream",
     "text": [
      "Loss is 0.0031340999994426966\n",
      "count 0.842948717948718\n",
      "count 0.8464798400334258\n",
      "count 0.8464922746525085\n"
     ]
    },
    {
     "data": {
      "application/vnd.jupyter.widget-view+json": {
       "model_id": "",
       "version_major": 2,
       "version_minor": 0
      },
      "text/plain": [
       "HBox(children=(FloatProgress(value=1.0, bar_style='info', description='Validating', layout=Layout(flex='2'), m…"
      ]
     },
     "metadata": {},
     "output_type": "display_data"
    },
    {
     "name": "stdout",
     "output_type": "stream",
     "text": [
      "Loss is 0.003250416601076722\n",
      "count 0.8499683922174616\n",
      "count 0.8517780860678819\n",
      "count 0.8534989137140252\n"
     ]
    },
    {
     "data": {
      "application/vnd.jupyter.widget-view+json": {
       "model_id": "",
       "version_major": 2,
       "version_minor": 0
      },
      "text/plain": [
       "HBox(children=(FloatProgress(value=1.0, bar_style='info', description='Validating', layout=Layout(flex='2'), m…"
      ]
     },
     "metadata": {},
     "output_type": "display_data"
    },
    {
     "name": "stdout",
     "output_type": "stream",
     "text": [
      "Loss is 0.003174125449731946\n",
      "count 0.8554162357807652\n",
      "count 0.8568260164250228\n",
      "count 0.8573264619533032\n",
      "count 0.8575925554329287\n",
      "count 0.857838850718301\n"
     ]
    },
    {
     "data": {
      "application/vnd.jupyter.widget-view+json": {
       "model_id": "",
       "version_major": 2,
       "version_minor": 0
      },
      "text/plain": [
       "HBox(children=(FloatProgress(value=1.0, bar_style='info', description='Validating', layout=Layout(flex='2'), m…"
      ]
     },
     "metadata": {},
     "output_type": "display_data"
    },
    {
     "name": "stdout",
     "output_type": "stream",
     "text": [
      "Loss is 0.003120747162029147\n",
      "count 0.8601490942703144\n",
      "count 0.8609225868565248\n",
      "count 0.8623659673659674\n",
      "count 0.8637095025619372\n",
      "count 0.8642205990600759\n"
     ]
    },
    {
     "data": {
      "application/vnd.jupyter.widget-view+json": {
       "model_id": "",
       "version_major": 2,
       "version_minor": 0
      },
      "text/plain": [
       "HBox(children=(FloatProgress(value=1.0, bar_style='info', description='Validating', layout=Layout(flex='2'), m…"
      ]
     },
     "metadata": {},
     "output_type": "display_data"
    },
    {
     "name": "stdout",
     "output_type": "stream",
     "text": [
      "Loss is 0.003113131271675229\n",
      "count 0.8666558423986578\n",
      "count 0.8667675348535611\n",
      "count 0.8669628798826651\n",
      "count 0.8686788957997874\n",
      "count 0.8687438200828898\n"
     ]
    },
    {
     "data": {
      "application/vnd.jupyter.widget-view+json": {
       "model_id": "",
       "version_major": 2,
       "version_minor": 0
      },
      "text/plain": [
       "HBox(children=(FloatProgress(value=1.0, bar_style='info', description='Validating', layout=Layout(flex='2'), m…"
      ]
     },
     "metadata": {},
     "output_type": "display_data"
    },
    {
     "name": "stdout",
     "output_type": "stream",
     "text": [
      "Loss is 0.003284008242189884\n",
      "count 0.8703923177439451\n",
      "count 0.8711255303219366\n",
      "count 0.8724248390983631\n"
     ]
    },
    {
     "data": {
      "application/vnd.jupyter.widget-view+json": {
       "model_id": "",
       "version_major": 2,
       "version_minor": 0
      },
      "text/plain": [
       "HBox(children=(FloatProgress(value=1.0, bar_style='info', description='Validating', layout=Layout(flex='2'), m…"
      ]
     },
     "metadata": {},
     "output_type": "display_data"
    },
    {
     "name": "stdout",
     "output_type": "stream",
     "text": [
      "Loss is 0.003429389325901866\n",
      "\n"
     ]
    },
    {
     "data": {
      "text/plain": [
       "1"
      ]
     },
     "execution_count": 23,
     "metadata": {},
     "output_type": "execute_result"
    }
   ],
   "source": [
    "#model.to(\"cpu\")\n",
    "#model.device = \"cpu\"\n",
    "trainer = Trainer(max_nb_epochs=15,min_nb_epochs=1, gpus = 1)\n",
    "trainer.fit(model)"
   ]
  },
  {
   "cell_type": "code",
   "execution_count": null,
   "metadata": {},
   "outputs": [],
   "source": [
    "del model"
   ]
  },
  {
   "cell_type": "code",
   "execution_count": 24,
   "metadata": {},
   "outputs": [
    {
     "name": "stdout",
     "output_type": "stream",
     "text": [
      "The use of 5 % ARG1:dextrose and sodium bicarbonate is an effective initial treatment for ARG2:hyperkalemia .\n",
      "-------------------------------\n",
      "Cyclosporine is an immunosuppressant and is used to avoid organ transplant rejection .\n",
      "-------------------------------\n",
      "GOLD ARG1, ARG2: ##rose ##emia\n",
      "all arg1 preds ['.', 'Cyclosporine', '.', 'is', 'immunosuppressant', 'rejection', 'immunosuppressant']\n",
      "---------------------------------------------------\n",
      "all arg2 preds ['rejection', 'transplant', 'organ', 'used', 'immunosuppressant', 'immunosuppressant', 'to']\n",
      "---------------------------------------------------\n",
      "===================================================\n",
      "Suppose that a fraction ARG1:Q of all infected individuals is completely isolated and does not transmit the disease to ARG2:anyone .\n",
      "-------------------------------\n",
      "Although the J class is isolated to a negative-pressure room , a few of its members could transmit the virus , by accident , to other people such as healthcare workers .\n",
      "-------------------------------\n",
      "GOLD ARG1, ARG2: q anyone\n",
      "all arg1 preds ['few', 'class', 'its', 'virus', 'accident', 'room', 'J']\n",
      "---------------------------------------------------\n",
      "all arg2 preds ['workers', 'people', 'virus', 'class', 'healthcare', 'members', 'accident']\n",
      "---------------------------------------------------\n",
      "===================================================\n",
      "Moreover , the ARG1:pathogen also spreads to humans through direct ARG2:contact with infected poultry and contaminated surfaces [ 5 ] .\n",
      "-------------------------------\n",
      "The COVID-19 disease can spread in a population through infected symptomatic/asymptomatic individuals who come in contact directly/indirectly [ 4 ] .\n",
      "-------------------------------\n",
      "GOLD ARG1, ARG2: pathogen contact\n",
      "all arg1 preds ['individuals', 'disease', 'population', 'symptomatic/asymptomatic', 'contact', 'symptomatic/asymptomatic', 'infected']\n",
      "---------------------------------------------------\n",
      "all arg2 preds ['individuals', 'symptomatic/asymptomatic', ']', 'contact', 'directly/indirectly', 'symptomatic/asymptomatic', 'population']\n",
      "---------------------------------------------------\n",
      "===================================================\n",
      "The low second trimester plasma MBL ARG1:level is not a risk factor for the development of ARG2:preterm birth .\n",
      "-------------------------------\n",
      "Nevertheless , even 5 - 10 years intervals from the previous gestation do not increase the risk for PE .\n",
      "-------------------------------\n",
      "GOLD ARG1, ARG2: level preterm\n",
      "all arg1 preds ['intervals', 'gestation', 'PE', 'years', 'even', '5', '.']\n",
      "---------------------------------------------------\n",
      "all arg2 preds ['the', 'PE', '-', 'intervals', '10', 'gestation', 'from']\n",
      "---------------------------------------------------\n",
      "===================================================\n",
      "However , ARG1:glucose blood levels were reduced and insulin sensitivity was increased in ARG2:MTX2 and MTX4 .\n",
      "-------------------------------\n",
      "Both blood glucose and lipid profiles were reduced in the allogenic group [ 9 ] .\n",
      "-------------------------------\n",
      "GOLD ARG1, ARG2: glucose ##2\n",
      "all arg1 preds ['profiles', 'blood', 'glucose', 'group', 'lipid', '*****', 'the']\n",
      "---------------------------------------------------\n",
      "all arg2 preds ['allogenic', ']', 'group', '9', 'lipid', 'profiles', 'allogenic']\n",
      "---------------------------------------------------\n",
      "===================================================\n",
      "It seems likely that the prevention and treatment of ARG1:AEx of IPF must focus on both ARG2:disease-specific ( e.g. , anti-fi brotic therapies ) and non-disease-specific ( e.g. , vaccination , prevention of stress ) areas .\n",
      "-------------------------------\n",
      "Thus , the clinical management of SARS should consider not only antiviral but anti-inflammatory strategies as well .\n",
      "-------------------------------\n",
      "GOLD ARG1, ARG2: ##x specific\n",
      "all arg1 preds ['management', 'antiviral', 'the', '.', 'strategies', 'of', 'clinical']\n",
      "---------------------------------------------------\n",
      "all arg2 preds ['strategies', 'anti-inflammatory', 'anti-inflammatory', 'antiviral', 'SARS', 'Thus', 'well']\n",
      "---------------------------------------------------\n",
      "===================================================\n",
      "The results indicate that supplementation of fish with ARG1:rosemary could improve the haematological and immunological properties and increase the survival rate after challenge with ARG2:S. iniae .\n",
      "-------------------------------\n",
      "Recent studies have demonstrated that prolonged treatment with EP can ameliorate experimental ulcerative colitis and slow multiple tumor growth .\n",
      "-------------------------------\n",
      "GOLD ARG1, ARG2: ##y .\n",
      "all arg1 preds ['treatment', 'EP', 'studies', 'colitis', 'Recent', 'with', 'demonstrated']\n",
      "---------------------------------------------------\n",
      "all arg2 preds ['multiple', 'colitis', 'tumor', 'growth', 'ulcerative', 'experimental', 'EP']\n",
      "---------------------------------------------------\n",
      "===================================================\n",
      "In 2013 , an outbreak of ARG1:MERS-CoV occurred in the ARG2:Middle East , including Jordan ( 10 , 11 ) .\n",
      "-------------------------------\n",
      "An outbreak of severe acute respiratory syndrome ( SARS ) was detected in Singapore at the beginning of March 2003 .\n",
      "-------------------------------\n",
      "GOLD ARG1, ARG2: cov middle\n",
      "all arg1 preds ['syndrome', 'Singapore', 'respiratory', 'outbreak', 'beginning', '(', '2003']\n",
      "---------------------------------------------------\n",
      "all arg2 preds ['respiratory', 'acute', 'syndrome', 'detected', '2003', 'Singapore', 'March']\n",
      "---------------------------------------------------\n"
     ]
    }
   ],
   "source": [
    "k = random.choice(range(100))\n",
    "\n",
    "sent1 = \"The use of 5 % ARG1:dextrose and sodium bicarbonate is an effective initial treatment for ARG2:hyperkalemia .\"\n",
    "sent2 = \"Cyclosporine is an immunosuppressant and is used to avoid organ transplant rejection .\"\n",
    "\n",
    "with torch.no_grad():\n",
    "    print(sent1)\n",
    "    print(\"-------------------------------\")\n",
    "    print(sent2)\n",
    "    print(\"-------------------------------\")\n",
    "    get_prediction(sent1, sent2, model.eval())\n",
    "\n",
    "print(\"===================================================\")\n",
    "    \n",
    "    \n",
    "sent1 = \"Suppose that a fraction ARG1:Q of all infected individuals is completely isolated and does not transmit the disease to ARG2:anyone .\"\n",
    "sent2 = \"Although the J class is isolated to a negative-pressure room , a few of its members could transmit the virus , by accident , to other people such as healthcare workers .\"\n",
    "\n",
    "with torch.no_grad():\n",
    "    print(sent1)\n",
    "    print(\"-------------------------------\")\n",
    "    print(sent2)\n",
    "    print(\"-------------------------------\")\n",
    "    get_prediction(sent1, sent2, model.eval())\n",
    "    \n",
    "    \n",
    "print(\"===================================================\")\n",
    "    \n",
    "    \n",
    "sent1 = \"Moreover , the ARG1:pathogen also spreads to humans through direct ARG2:contact with infected poultry and contaminated surfaces [ 5 ] .\"\n",
    "sent2 = \"The COVID-19 disease can spread in a population through infected symptomatic/asymptomatic individuals who come in contact directly/indirectly [ 4 ] .\"\n",
    "\n",
    "with torch.no_grad():\n",
    "    print(sent1)\n",
    "    print(\"-------------------------------\")\n",
    "    print(sent2)\n",
    "    print(\"-------------------------------\")\n",
    "    get_prediction(sent1, sent2, model.eval())\n",
    "    \n",
    "    \n",
    "print(\"===================================================\")\n",
    "    \n",
    "    \n",
    "sent1 = \"The low second trimester plasma MBL ARG1:level is not a risk factor for the development of ARG2:preterm birth .\"\n",
    "sent2 = \"Nevertheless , even 5 - 10 years intervals from the previous gestation do not increase the risk for PE .\"\n",
    "\n",
    "with torch.no_grad():\n",
    "    print(sent1)\n",
    "    print(\"-------------------------------\")\n",
    "    print(sent2)\n",
    "    print(\"-------------------------------\")\n",
    "    get_prediction(sent1, sent2, model.eval())\n",
    "    \n",
    "    \n",
    "print(\"===================================================\")\n",
    "    \n",
    "    \n",
    "sent1 = \"However , ARG1:glucose blood levels were reduced and insulin sensitivity was increased in ARG2:MTX2 and MTX4 .\"\n",
    "sent2 = \"Both blood glucose and lipid profiles were reduced in the allogenic group [ 9 ] .\"\n",
    "\n",
    "with torch.no_grad():\n",
    "    print(sent1)\n",
    "    print(\"-------------------------------\")\n",
    "    print(sent2)\n",
    "    print(\"-------------------------------\")\n",
    "    get_prediction(sent1, sent2, model.eval())\n",
    "    \n",
    "    \n",
    "print(\"===================================================\")\n",
    "    \n",
    "    \n",
    "sent1 = \"It seems likely that the prevention and treatment of ARG1:AEx of IPF must focus on both ARG2:disease-specific ( e.g. , anti-fi brotic therapies ) and non-disease-specific ( e.g. , vaccination , prevention of stress ) areas .\"\n",
    "sent2 = \"Thus , the clinical management of SARS should consider not only antiviral but anti-inflammatory strategies as well .\"\n",
    "\n",
    "with torch.no_grad():\n",
    "    print(sent1)\n",
    "    print(\"-------------------------------\")\n",
    "    print(sent2)\n",
    "    print(\"-------------------------------\")\n",
    "    get_prediction(sent1, sent2, model.eval())\n",
    "    \n",
    "    \n",
    "    \n",
    "print(\"===================================================\")\n",
    "    \n",
    "    \n",
    "sent1 = \"The results indicate that supplementation of fish with ARG1:rosemary could improve the haematological and immunological properties and increase the survival rate after challenge with ARG2:S. iniae .\"\n",
    "sent2 = \"Recent studies have demonstrated that prolonged treatment with EP can ameliorate experimental ulcerative colitis and slow multiple tumor growth .\"\n",
    "\n",
    "with torch.no_grad():\n",
    "    print(sent1)\n",
    "    print(\"-------------------------------\")\n",
    "    print(sent2)\n",
    "    print(\"-------------------------------\")\n",
    "    get_prediction(sent1, sent2, model.eval())\n",
    "    \n",
    "    \n",
    "print(\"===================================================\")\n",
    "    \n",
    "    \n",
    "sent1 = \"In 2013 , an outbreak of ARG1:MERS-CoV occurred in the ARG2:Middle East , including Jordan ( 10 , 11 ) .\"\n",
    "sent2 = \"An outbreak of severe acute respiratory syndrome ( SARS ) was detected in Singapore at the beginning of March 2003 .\"\n",
    "\n",
    "with torch.no_grad():\n",
    "    print(sent1)\n",
    "    print(\"-------------------------------\")\n",
    "    print(sent2)\n",
    "    print(\"-------------------------------\")\n",
    "    get_prediction(sent1, sent2, model.eval())"
   ]
  },
  {
   "cell_type": "code",
   "execution_count": null,
   "metadata": {},
   "outputs": [],
   "source": [
    "del model"
   ]
  },
  {
   "cell_type": "code",
   "execution_count": null,
   "metadata": {},
   "outputs": [],
   "source": []
  }
 ],
 "metadata": {
  "kernelspec": {
   "display_name": "Python 3",
   "language": "python",
   "name": "python3"
  },
  "language_info": {
   "codemirror_mode": {
    "name": "ipython",
    "version": 3
   },
   "file_extension": ".py",
   "mimetype": "text/x-python",
   "name": "python",
   "nbconvert_exporter": "python",
   "pygments_lexer": "ipython3",
   "version": "3.7.9"
  }
 },
 "nbformat": 4,
 "nbformat_minor": 4
}
